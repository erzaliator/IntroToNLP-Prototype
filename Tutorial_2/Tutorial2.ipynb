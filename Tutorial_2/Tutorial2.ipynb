{
 "cells": [
  {
   "cell_type": "markdown",
   "metadata": {},
   "source": [
    "## Word normalization\n",
    "The previous lesson demonstrated using regex to answer Eliza questions. In this lesson, we will use regex and python NLP utility libraries to process text. "
   ]
  },
  {
   "cell_type": "code",
   "execution_count": null,
   "metadata": {},
   "outputs": [],
   "source": []
  },
  {
   "cell_type": "markdown",
   "metadata": {},
   "source": [
    "# Demo"
   ]
  },
  {
   "attachments": {},
   "cell_type": "markdown",
   "metadata": {},
   "source": [
    "## Tokenization using 📚 nltk 📚\n",
    "\n",
    "NLTK is python library. It is used for natural language processing. It has many features like tokenization, stemming, lemmatization, POS tagging, etc.\n",
    "Today we will see how to use NLTK for tokenization.\n",
    "\n",
    "NLTK offers many different types of tokenizers based on your use case. We will see some of them here.\n",
    "1. Word Tokenizer\n",
    "2. Sentence Tokenizer\n",
    "3. Regexp Tokenizer\n"
   ]
  },
  {
   "attachments": {},
   "cell_type": "markdown",
   "metadata": {},
   "source": [
    "#### Word Tokenizer\n",
    "* Word tokenizer is used to tokenize the text into words. \n",
    "* It is used to split a sentence into words. It uses the space between two words to split the sentence. \n",
    "* It uses a simple logic that is also quite prone to errors. Let’s see an example of how it works.\n"
   ]
  },
  {
   "cell_type": "code",
   "execution_count": null,
   "metadata": {},
   "outputs": [],
   "source": [
    "from nltk.tokenize import word_tokenize\n",
    "text = \"I am learning NLP\"\n",
    "word_tokenize(text)"
   ]
  },
  {
   "attachments": {},
   "cell_type": "markdown",
   "metadata": {},
   "source": [
    "#### Sentence Tokenizer\n",
    "* Sentence tokenizer is used to tokenize the text into sentences.\n",
    "* It is used to split a paragraph or a large sentence into sentences.\n",
    "* It uses periods (.) to split the text into sentences.\n"
   ]
  },
  {
   "cell_type": "code",
   "execution_count": null,
   "metadata": {},
   "outputs": [],
   "source": [
    "from nltk.tokenize import sent_tokenize\n",
    "text = \"I am learning NLP. It is very interesting and exciting. I am enjoying this course.\"\n",
    "sent_tokenize(text)"
   ]
  },
  {
   "attachments": {},
   "cell_type": "markdown",
   "metadata": {},
   "source": [
    "\n",
    "#### Regex Tokenizer\n",
    "* Regex tokenizer is used to tokenize the text using regular expressions.\n",
    "* It is used to split a string into substrings using a regular expression.\n",
    "* It uses regular expressions to split the text into tokens.\n"
   ]
  },
  {
   "cell_type": "code",
   "execution_count": null,
   "metadata": {},
   "outputs": [],
   "source": [
    "from nltk.tokenize import RegexpTokenizer\n",
    "\n",
    "# Create a regular expression tokenizer to handle urls and words\n",
    "tokenizer = RegexpTokenizer(\"www\\.[^\\s]+|https?://[^\\s]+|\\d+\\.?\\d*\")\n",
    "\n",
    "# Tokenize the text\n",
    "text = \"I am learning NLP. It is very interesting and exciting. I am enjoying this course. You can learn more about NLP at https://www.analyticsvidhya.com/blog/2020/04/beginners-guide-exploratory-data-analysis-text-data/.\"\n",
    "tokenizer.tokenize(text)\n",
    "\n",
    "# We first initialized RegexpTokenizer using a regex pattern. Then we used the tokenize() method to tokenize the text."
   ]
  },
  {
   "attachments": {},
   "cell_type": "markdown",
   "metadata": {},
   "source": [
    "## Tokenization using ☁️ Spacy ☁️ \n",
    "\n",
    "Spacy is a library with support for NLP-related tasks such as tokenization, POS tagging, named entity recognition, etc. \n",
    "\n",
    "Spacy has more features than nltk and is faster. Other than tokenizers spacy has a lot of other features.\n",
    "\n",
    "POS tagging, named entity recognition, dependency parsing, word to vector transformations, etc.\n",
    "\n",
    "* Note how spacy is able to identify the parts of speech and the dependency relations between the words in the sentence. \n",
    "* It goes beyond tokenization and provides a lot of useful information about the sentence."
   ]
  },
  {
   "cell_type": "code",
   "execution_count": null,
   "metadata": {},
   "outputs": [],
   "source": [
    "import spacy\n",
    "nlp = spacy.load('en_core_web_sm')\n",
    "\n",
    "doc = nlp(u'Apple is looking at buying U.K. startup for $1 billion')\n",
    "\n",
    "for token in doc:\n",
    "    print(token.text, token.pos_, token.dep_)"
   ]
  },
  {
   "cell_type": "markdown",
   "metadata": {},
   "source": [
    "# Word normalization\n"
   ]
  },
  {
   "cell_type": "markdown",
   "metadata": {},
   "source": [
    "## Contractions"
   ]
  },
  {
   "cell_type": "markdown",
   "metadata": {},
   "source": [
    "## Question 2: Contraction for linguists\n",
    "\n",
    "How would you handle the following words - \n",
    "1. don't (don t or do not)\n",
    "2. U.S.A.\n",
    "3. Mr. Ross, Dr. Dre, Lil' Wayne\n",
    "\n",
    "<font color=\"yellow\">\n",
    "Add your answer to the markdown cell below\n",
    "</font>"
   ]
  },
  {
   "cell_type": "code",
   "execution_count": null,
   "metadata": {},
   "outputs": [],
   "source": [
    "# Answer 2:\n",
    "\n",
    "There are many different ways of handling contractions like don't, can't, etc. \n",
    "1. don't -> do n't\n",
    "2. don't -> do not\n",
    "3. don't -> dont\n",
    "\n",
    "The first method is the most common because it preserves the meaning of the word.\n",
    "The second method does not preserve the information that the word was a contraction.\n",
    "The third method is not a good idea because it is not a real word.\n",
    "\n",
    "\n",
    "There are many different ways of handling abbreviations like U.S.A.\n",
    "1. U.S.A. -> U.S.A.\n",
    "2. U.S.A. -> USA\n",
    "3. U.S.A. -> U S A\n",
    "\n",
    "The first method is the most common because it preserves the meaning of the word.\n",
    "The second method does not preserve the information that the word was an abbreviation. But it is still valid.\n",
    "The third method is not a good idea because it treats each letter as a separate word.\n",
    "\n",
    "There are many different ways of handling initals like Mr., Mrs., Dr., Lil' Wayne, etc.\n",
    "1. Mr./Dr./Lil' -> Mr/Dr/Lil'\n",
    "2. Mr./Dr./Lil' -> Mr/Dr/Lil\n",
    "3. Mr./Dr./Lil' -> Mister/Doctor/Little\n",
    "\n",
    "The first method is the most common because it preserves the meaning of the word.\n",
    "The second method does not preserve the information that the word was an initial.\n",
    "The third method expands the contraction and is also valid. "
   ]
  },
  {
   "cell_type": "code",
   "execution_count": 1,
   "metadata": {},
   "outputs": [
    {
     "name": "stdout",
     "output_type": "stream",
     "text": [
      "['Do', \"n't\", 'you', 'think', 'this', 'is', 'tricky', 'to', 'tokenize', '?', 'Look', 'at', 'U.S.A.', ',', 'USA', '.', 'Consider', 'two', 'Ph.D.s', 'in', 'NLP', '.', 'Dr.', 'Ross', 'likes', 'to', 'listen', 'to', 'Lil', \"'\", 'Wayne', \"'s\", 'music', '.', 'She', 'and', 'Mrs.', 'Smith', 'both', 'like', 'to', 'listen', 'to', 'his', 'music', '.', 'Although', ',', 'they', 'also', 'like', 'indie-rock', '.', 'Is', \"n't\", 'that', 'interesting', '!', '!', '!', '!', ':', ')']\n"
     ]
    }
   ],
   "source": [
    "# The NLTK word tokenizer handles contractions as well.\n",
    "import nltk\n",
    "\n",
    "sentences = \"Don't you think this is tricky to tokenize? Look at U.S.A. , USA. Consider two Ph.D.s in NLP. Dr. Ross likes to listen to Lil' Wayne's music. She and Mrs. Smith both like to listen to his music. Although, they also like indie-rock. Isn't that interesting!!!! :)\"\n",
    "\n",
    "nltk_sentence = nltk.word_tokenize(sentences)\n",
    "print(nltk_sentence)"
   ]
  },
  {
   "cell_type": "code",
   "execution_count": 2,
   "metadata": {},
   "outputs": [
    {
     "name": "stdout",
     "output_type": "stream",
     "text": [
      "['Do', 'not', 'you', 'think', 'this', 'is', 'tricky', 'to', 'tokenize?', 'Look', 'at', 'YOU.S.A.', ',', 'USA.', 'Consider', 'two', 'Ph.D.s', 'in', 'NLP.', 'Dr.', 'Ross', 'likes', 'to', 'listen', 'to', \"Lil'\", \"Wayne's\", 'music.', 'She', 'and', 'Mrs.', 'Smith', 'both', 'like', 'to', 'listen', 'to', 'his', 'music.', 'Although,', 'they', 'also', 'like', 'indie-rock.', 'Is', 'not', 'that', 'interesting!!!!', ':)']\n"
     ]
    }
   ],
   "source": [
    "# For comparision, let's use the python contractions library to replace contractions in the text.\n",
    "import contractions\n",
    "\n",
    "def replace_contractions(text):\n",
    "    \"\"\"Replace contractions in string of text\"\"\"\n",
    "    return contractions.fix(text)\n",
    "\n",
    "contractions_sentence = replace_contractions(sentences)\n",
    "print(contractions_sentence.split())"
   ]
  },
  {
   "cell_type": "markdown",
   "metadata": {},
   "source": [
    "## Question 3: Contractions by libraries\n",
    "\n",
    "Now compare your answer with the nltk tokenizer and the contractions library. \n",
    "Which library is able to handle the use case correctly?\n",
    "\n",
    "<font color=\"yellow\">\n",
    "Add your answer to the markdown cell below\n",
    "</font>"
   ]
  },
  {
   "cell_type": "code",
   "execution_count": null,
   "metadata": {},
   "outputs": [],
   "source": [
    "# Answer 3:\n",
    "\n",
    "Both nltk and contraction treat U.S.A. and USA as seperate entities.\n",
    "The contractions library expands don't to do not, but nltk does not.\n",
    "Ph.D., Mrs. and Dr. are not expanded by either library."
   ]
  },
  {
   "cell_type": "markdown",
   "metadata": {},
   "source": [
    "## Question 4: URLs\n",
    "\n",
    "URLs may not be necessary for the task at hand. Remove the URLs from the text with a regular expression."
   ]
  },
  {
   "cell_type": "code",
   "execution_count": 3,
   "metadata": {},
   "outputs": [
    {
     "name": "stdout",
     "output_type": "stream",
     "text": [
      "This sentence is a wikipedia article  The article is about the programming language Python \n"
     ]
    }
   ],
   "source": [
    "# Answer 4:\n",
    "\n",
    "import re\n",
    "\n",
    "def remove_urls(tokens):\n",
    "    '''Removes all URLs from a list of tokens'''\n",
    "\n",
    "    ################Enter Your Code Here################\n",
    "    tokens = text.split()\n",
    "    url_pattern = r'www\\.\\S+|https?://\\S+'\n",
    "    tokens = [re.sub(url_pattern, '', token) for token in tokens]\n",
    "    return ' '.join(tokens)\n",
    "    ####################################################\n",
    "\n",
    "text = \"This sentence is a wikipedia article https://en.wikipedia.org/wiki/Python_(programming_language). The article is about the programming language Python https://www.python.org/.\"\n",
    "print(remove_urls(text))"
   ]
  },
  {
   "cell_type": "markdown",
   "metadata": {},
   "source": [
    "## Question 5: Hashtags\n",
    "\n",
    "Hashtags are a common feature of social media posts. Process the hashtag to remove the special \"#\" character.\n",
    "\n",
    "<font color=\"yellow\">\n",
    "Add your answer to the markdown cell's function: ```process_hashtags(text)``` and ```process_mentions(tweet)```\n",
    "</font>"
   ]
  },
  {
   "cell_type": "code",
   "execution_count": 4,
   "metadata": {},
   "outputs": [
    {
     "name": "stdout",
     "output_type": "stream",
     "text": [
      "Tweet:  #HelloWorld\n",
      "Hashtags:  ['HelloWorld']\n",
      "Mentions:  []\n",
      "Tweet without hashtags and mentions:  \n",
      "\n",
      "Tweet:  Hello @World\n",
      "Hashtags:  []\n",
      "Mentions:  ['World']\n",
      "Tweet without hashtags and mentions:  Hello\n",
      "\n",
      "Tweet:  Hello World\n",
      "Hashtags:  []\n",
      "Mentions:  []\n",
      "Tweet without hashtags and mentions:  Hello World\n",
      "\n",
      "Tweet:  @YannLeCunn NLP will be a huge topic. #NLP #MachineLearning #A-I\n",
      "Hashtags:  ['NLP', 'MachineLearning', 'A-I']\n",
      "Mentions:  ['YannLeCunn']\n",
      "Tweet without hashtags and mentions:  NLP will be a huge topic.\n",
      "\n"
     ]
    }
   ],
   "source": [
    "# Answer 5:\n",
    "\n",
    "def process_hashtags_and_mentions(tweet, filter_hashtags_and_mentions = True):\n",
    "    tweet = tweet.split()\n",
    "    # store the hashtags in a list and tweet without hashtags in a separate list\n",
    "    hashtags = []\n",
    "    tweet_without_hashtags = []\n",
    "\n",
    "    #####################Enter your code below ##################\n",
    "    for word in tweet:\n",
    "        if word[0] == '#':\n",
    "            hashtags.append(word[1:])\n",
    "        else:\n",
    "            tweet_without_hashtags.append(word)\n",
    "    #############################################################\n",
    "    \n",
    "    mentions = []\n",
    "    tweet_without_mentions = []\n",
    "\n",
    "    #####################Enter your code below ##################\n",
    "    for word in tweet_without_hashtags:\n",
    "        if word[0] == '@':\n",
    "            mentions.append(word[1:])\n",
    "        else:\n",
    "            tweet_without_mentions.append(word)\n",
    "    tweet_without_mentions = \" \".join(tweet_without_mentions)\n",
    "    #############################################################\n",
    "    if filter_hashtags_and_mentions:\n",
    "        return tweet_without_mentions\n",
    "    \n",
    "    return hashtags, mentions, tweet_without_mentions\n",
    "\n",
    "tweets = [\"#HelloWorld\", \"Hello @World\", \"Hello World\", \"@YannLeCunn NLP will be a huge topic. #NLP #MachineLearning #A-I\"]\n",
    "\n",
    "for tweet in tweets:\n",
    "    print(\"Tweet: \", tweet)\n",
    "    hashtags, mentions, tweet_without_mentions_and_hashtags = process_hashtags_and_mentions(tweet, filter_hashtags_and_mentions = False)\n",
    "    print(\"Hashtags: \", hashtags)\n",
    "    print(\"Mentions: \", mentions)\n",
    "    print(\"Tweet without hashtags and mentions: \", tweet_without_mentions_and_hashtags)\n",
    "    print()"
   ]
  },
  {
   "cell_type": "markdown",
   "metadata": {},
   "source": [
    "## Question 6: Tokenization\n",
    "\n",
    "Use the NLTK word tokenizer to tokenize to tokenize the sentence."
   ]
  },
  {
   "cell_type": "code",
   "execution_count": 5,
   "metadata": {},
   "outputs": [
    {
     "name": "stdout",
     "output_type": "stream",
     "text": [
      "['Do', \"n't\", 'you', 'think', 'this', 'is', 'tricky', 'to', 'tokenize', '?', 'Look', 'at', 'U.S.A.', ',', 'USA', '.', 'Consider', 'two', 'Ph.D.s', 'in', 'NLP', '.', 'Dr.', 'Ross', 'likes', 'to', 'listen', 'to', 'Lil', \"'\", 'Wayne', \"'s\", 'music', '.', 'She', 'and', 'Mrs.', 'Smith', 'both', 'like', 'to', 'listen', 'to', 'his', 'music', '.', 'Although', ',', 'they', 'also', 'like', 'indie-rock', '.', 'Is', \"n't\", 'that', 'interesting', '!', '!', '!', '!', ':', ')']\n"
     ]
    }
   ],
   "source": [
    "# Answer 6:\n",
    "\n",
    "from nltk import word_tokenize\n",
    "\n",
    "def tokenize(text):\n",
    "    ###################Enter Your Code Here ###################\n",
    "    return word_tokenize(text)\n",
    "    ##########################################################\n",
    "\n",
    "# sentences = \"Don't you think it's a good idea?!! This is a simple-test with U.S.A. , USA, and L.S.T.M. .\"\n",
    "tokens = tokenize(sentences)\n",
    "print(tokens)"
   ]
  },
  {
   "cell_type": "markdown",
   "metadata": {},
   "source": [
    "## Lowercasing"
   ]
  },
  {
   "cell_type": "code",
   "execution_count": 6,
   "metadata": {},
   "outputs": [
    {
     "name": "stdout",
     "output_type": "stream",
     "text": [
      "['do', \"n't\", 'you', 'think', 'this', 'is', 'tricky', 'to', 'tokenize', '?', 'look', 'at', 'u.s.a.', ',', 'usa', '.', 'consider', 'two', 'ph.d.s', 'in', 'nlp', '.', 'dr.', 'ross', 'likes', 'to', 'listen', 'to', 'lil', \"'\", 'wayne', \"'s\", 'music', '.', 'she', 'and', 'mrs.', 'smith', 'both', 'like', 'to', 'listen', 'to', 'his', 'music', '.', 'although', ',', 'they', 'also', 'like', 'indie-rock', '.', 'is', \"n't\", 'that', 'interesting', '!', '!', '!', '!', ':', ')']\n"
     ]
    }
   ],
   "source": [
    "lower_tokens = [t.lower() for t in tokens]\n",
    "print(lower_tokens)"
   ]
  },
  {
   "cell_type": "markdown",
   "metadata": {},
   "source": [
    "## Question 7: Punctuation\n",
    "\n",
    "Write a regex to remove punctuations from the text. \n",
    "\n",
    "<font color=\"yellow\">\n",
    "Add your answer to the markdown cell's function: ```remove_punctuations(text)```\n",
    "</font>"
   ]
  },
  {
   "cell_type": "code",
   "execution_count": 7,
   "metadata": {},
   "outputs": [
    {
     "name": "stdout",
     "output_type": "stream",
     "text": [
      "['do', \"n't\", 'you', 'think', 'this', 'is', 'tricky', 'to', 'tokenize', 'look', 'at', 'u.s.a.', 'usa', 'consider', 'two', 'ph.d.s', 'in', 'nlp', 'dr.', 'ross', 'likes', 'to', 'listen', 'to', 'lil', 'wayne', 'music', 'she', 'and', 'mrs.', 'smith', 'both', 'like', 'to', 'listen', 'to', 'his', 'music', 'although', 'they', 'also', 'like', 'indie-rock', 'is', \"n't\", 'that', 'interesting']\n"
     ]
    }
   ],
   "source": [
    "#Answer 7:\n",
    "import re\n",
    "\n",
    "def remove_punctuations(tokens):\n",
    "    \"\"\"Remove punctuations from a list of tokens\"\"\"\n",
    "\n",
    "    ###################Insert your code here###################\n",
    "    pattern = re.compile(r'[^\\W_]')\n",
    "\n",
    "    filtered_tokens = []\n",
    "    for token in tokens:\n",
    "        if pattern.match(token):\n",
    "            filtered_tokens.append(token)\n",
    "    #############################################################\n",
    "    return filtered_tokens\n",
    "\n",
    "words = remove_punctuations(lower_tokens)\n",
    "print(words)"
   ]
  },
  {
   "cell_type": "markdown",
   "metadata": {},
   "source": [
    "# Stemming\n",
    "\n",
    "Stemming is the process of reducing a word to its stem form. For example, learning, learns, learned are all reduced to learn. \n",
    "\n",
    "For instance, the stem of these three words, connections, connected, connects, is “connect”. On the other hand, the root of trouble, troubled, and troubles is “troubl,” which is not a recognized word.\n",
    "\n",
    "This helps in reducing the size of our vocabulary. NLTK has a built-in stemmer called PorterStemmer. Let's use it to stem the words in our sample text."
   ]
  },
  {
   "cell_type": "markdown",
   "metadata": {},
   "source": [
    "#### Porter Stemmer"
   ]
  },
  {
   "cell_type": "code",
   "execution_count": 8,
   "metadata": {},
   "outputs": [
    {
     "name": "stdout",
     "output_type": "stream",
     "text": [
      "['do', \"n't\", 'you', 'think', 'thi', 'is', 'tricki', 'to', 'token', 'look', 'at', 'u.s.a.', 'usa', 'consid', 'two', 'ph.d.', 'in', 'nlp', 'dr.', 'ross', 'like', 'to', 'listen', 'to', 'lil', 'wayn', 'music', 'she', 'and', 'mrs.', 'smith', 'both', 'like', 'to', 'listen', 'to', 'hi', 'music', 'although', 'they', 'also', 'like', 'indie-rock', 'is', \"n't\", 'that', 'interest']\n",
      "generous ---> gener\n",
      "generate ---> gener\n",
      "generously ---> gener\n",
      "generation ---> gener\n"
     ]
    }
   ],
   "source": [
    "# Let's use the porter stemmer to stem the words. \n",
    "\n",
    "from nltk.stem import PorterStemmer\n",
    "porter = PorterStemmer()\n",
    "\n",
    "stemmed = [porter.stem(word) for word in words]\n",
    "print(stemmed) #Note how the root for \"this\" is \"thi\" which is not a word. This is a limitation of the PorterStemmer.\n",
    "\n",
    "examples = ['generous','generate','generously','generation']\n",
    "for ex in examples:\n",
    "    print(ex,\"--->\",porter.stem(ex))"
   ]
  },
  {
   "cell_type": "markdown",
   "metadata": {},
   "source": [
    "#### Snowball Stemmer\n",
    "\n",
    "SnowballStemmer() is a module in NLTK that implements the Snowball stemming technique. It is somewhat faster and more logical than the original Porter Stemmer. Let us examine this form of stemming using an example."
   ]
  },
  {
   "cell_type": "code",
   "execution_count": 9,
   "metadata": {},
   "outputs": [
    {
     "name": "stdout",
     "output_type": "stream",
     "text": [
      "['do', \"n't\", 'you', 'think', 'this', 'is', 'tricki', 'to', 'token', 'look', 'at', 'u.s.a.', 'usa', 'consid', 'two', 'ph.d.s', 'in', 'nlp', 'dr.', 'ross', 'like', 'to', 'listen', 'to', 'lil', 'wayn', 'music', 'she', 'and', 'mrs.', 'smith', 'both', 'like', 'to', 'listen', 'to', 'his', 'music', 'although', 'they', 'also', 'like', 'indie-rock', 'is', \"n't\", 'that', 'interest']\n",
      "generous ---> generous\n",
      "generate ---> generat\n",
      "generously ---> generous\n",
      "generation ---> generat\n"
     ]
    }
   ],
   "source": [
    "from nltk.stem import SnowballStemmer\n",
    "\n",
    "snowball = SnowballStemmer(language='english')\n",
    "\n",
    "stemmed = [snowball.stem(word) for word in words]\n",
    "print(stemmed) #Note how Snowball stemmer is better than PorterStemmer. The root for \"this\" is \"this\" which is a word.\n",
    "\n",
    "words = ['generous','generate','generously','generation']\n",
    "for word in words:\n",
    "    print(word,\"--->\",snowball.stem(word))"
   ]
  },
  {
   "cell_type": "markdown",
   "metadata": {},
   "source": [
    "## Stop word removal\n",
    "\n",
    "**Stop words** are words which are filtered out before or after processing of natural language data.\n",
    "\n",
    "Stop words usually refer to the <font color=\"red\"> **most common words** </font> in a language. They include words like 'am', 'an', 'and', 'the', etc.\n",
    "Most search engines remove stop words to save space in their index of web pages."
   ]
  },
  {
   "cell_type": "code",
   "execution_count": 10,
   "metadata": {},
   "outputs": [
    {
     "name": "stderr",
     "output_type": "stream",
     "text": [
      "[nltk_data] Downloading package stopwords to /root/nltk_data...\n",
      "[nltk_data]   Package stopwords is already up-to-date!\n"
     ]
    },
    {
     "data": {
      "text/plain": [
       "True"
      ]
     },
     "execution_count": 10,
     "metadata": {},
     "output_type": "execute_result"
    }
   ],
   "source": [
    "import nltk\n",
    "nltk.download('stopwords')"
   ]
  },
  {
   "cell_type": "markdown",
   "metadata": {},
   "source": [
    "## Question 8: Stopwords\n",
    "\n",
    "Write a function to remove stopwords from a sentence. Use the list given below.\n",
    "\n",
    "<font color=\"yellow\">\n",
    "Add your answer to the markdown cell's function: ```remove_stopwords_using_list(words)```\n",
    "</font>"
   ]
  },
  {
   "cell_type": "code",
   "execution_count": 10,
   "metadata": {},
   "outputs": [],
   "source": [
    "# a stopword list\n",
    "\n",
    "STOPWORDS = \"the this and or is a an to in of for on are be was were will with that it its as at by from has \\\n",
    "            have he she they i you your my me mine his her him we us our am can could would should did do \\\n",
    "            does not no nor but so then what where when why how whom whose which\".split()"
   ]
  },
  {
   "cell_type": "code",
   "execution_count": 11,
   "metadata": {},
   "outputs": [
    {
     "name": "stdout",
     "output_type": "stream",
     "text": [
      "['sample', 'sentence', ',', 'showing', 'off', 'stop', 'words', 'filtration', '.']\n"
     ]
    }
   ],
   "source": [
    "# Answer 8:\n",
    "\n",
    "import nltk \n",
    "\n",
    "def remove_stopwords_using_list(words):\n",
    "    \"\"\"Remove stopwords from a sample string using a list of stopwords\"\"\"\n",
    "\n",
    "    ###################Insert your code here###################\n",
    "    result = []\n",
    "    for word in words:\n",
    "        if word not in STOPWORDS:\n",
    "            result.append(word)\n",
    "    return result\n",
    "    ##########################################################\n",
    "\n",
    "text = \"this is a sample sentence, showing off the stop words filtration.\"\n",
    "text = nltk.word_tokenize(text)\n",
    "text = remove_stopwords_using_list(text)\n",
    "print(text)"
   ]
  },
  {
   "cell_type": "code",
   "execution_count": 12,
   "metadata": {},
   "outputs": [
    {
     "name": "stdout",
     "output_type": "stream",
     "text": [
      "['sample', 'sentence', ',', 'showing', 'stop', 'words', 'filtration', '.']\n"
     ]
    }
   ],
   "source": [
    "# Let's use the nltk stopwords to remove the stop words from the text.\n",
    "\n",
    "from nltk.corpus import stopwords\n",
    "stop_words = stopwords.words('english')\n",
    "\n",
    "def remove_stopwords(text):\n",
    "    \"\"\"Remove stopwords from a sample string\"\"\"\n",
    "    return [word for word in text if word not in stop_words]\n",
    "\n",
    "text = \"this is a sample sentence, showing off the stop words filtration.\"\n",
    "text = nltk.word_tokenize(text)\n",
    "text = remove_stopwords(text)\n",
    "print(text)\n",
    "\n",
    "#Note how the nltk is a more comprehensive list than a hand-crafted one"
   ]
  },
  {
   "cell_type": "markdown",
   "metadata": {},
   "source": [
    "# Bringing it together: Corpus"
   ]
  },
  {
   "cell_type": "code",
   "execution_count": 13,
   "metadata": {},
   "outputs": [
    {
     "name": "stdout",
     "output_type": "stream",
     "text": [
      "text: ['exerpt', 'hebrew', 'arab', 'still', 'consid', 'difficult', 'research', 'languag', 'stem', 'english', 'stemmer', 'fair', 'trivial', 'onli', 'occasion', 'problem', 'e.g', 'dri', 'third-person', 'singular', 'present', 'form', 'verb', 'dri', 'axe', 'plural', 'axe', 'well', 'axi', 'stemmer', 'becom', 'harder', 'design', 'morpholog', 'orthographi', 'charact', 'encod', 'etc', 'target', 'languag', 'becom', 'complex', 'exampl', 'italian', 'stemmer', 'complex', 'english', 'one', 'becaus', 'greater', 'number', 'verb', 'inflect', 'russian', 'one', 'complex', 'noun', 'declens', 'hebrew', 'one', 'even', 'complex', 'due', 'nonconcaten', 'morpholog', 'write', 'system', 'without', 'vowel', 'requir', 'prefix', 'strip', 'hebrew', 'stem', 'two', 'three', 'four', 'charact', \"n't\", 'think', 'stem', 'trivial', 'martin', 'f.', 'porter', 'inventor', 'porter', 'stemmer', '1', 'one', 'common', 'algorithm', 'stem', 'english', '2', '3', 'snowbal', 'program', 'framework', 'spaci', 'also', 'offer', 'stemmer', 'across', 'various', 'languag', 'version', '1.0', 'releas', 'octob', '19', '2016', 'python', 'librari']\n",
      "hashtags: ['stemming', 'porter', 'languages', 'morphology', 'orthography', 'character', 'encoding', 'italian', 'english', 'russian', 'hebrew', 'concatenative', 'writing', 'system', 'vowels', 'prefix', 'stripping', 'algorithm', 'programming', 'framework', 'spacy', 'python', 'library']\n",
      "mentions: ['spacy', 'nltk', 'stanfordnlp', 'tokenizers_daily', 'huggingface', 'uds']\n"
     ]
    }
   ],
   "source": [
    "# Combining all the steps above, let's write a function to clean the text.\n",
    "\n",
    "snowball = SnowballStemmer(language='english')\n",
    "\n",
    "def clean_text(text, filter_hashtags_and_mentions=True):\n",
    "    \"\"\"Make text lowercase, remove text in square brackets, remove punctuation and remove words containing numbers.\"\"\"\n",
    "    # replace contractions\n",
    "    text = replace_contractions(text)\n",
    "    # remove URLs\n",
    "    text = remove_urls(text)\n",
    "    # text = ''.join(text)\n",
    "    #handle hashtags and mentions\n",
    "    hashtags, mentions, text = process_hashtags_and_mentions(text, filter_hashtags_and_mentions=False)\n",
    "    # tokenize text\n",
    "    tokens = tokenize(text)\n",
    "    # lowercase text\n",
    "    tokens = [word.lower() for word in tokens]\n",
    "    # remove punctuations\n",
    "    tokens = remove_punctuations(tokens)\n",
    "    # stem words\n",
    "    stemmed = [snowball.stem(token) for token in tokens]\n",
    "    # remove stopwords\n",
    "    stemmed = remove_stopwords(stemmed)\n",
    "\n",
    "    return stemmed, hashtags, mentions\n",
    "\n",
    "# Let's test the function on a sample text.\n",
    "text = \"\"\"@spacy @nltk @stanfordnlp @tokenizers_daily @huggingface @uds\n",
    "\n",
    "This is a an exerpt from https://tokenizers_daily.com . Hebrew and Arabic are still considered difficult research languages for stemming. \n",
    "English stemmers are fairly trivial (with only occasional problems, e.g. \"dries\" being the third-person singular present form of the verb \"dry\", \"axes\" being the plural of \"axe\" as well as \"axis\"); \n",
    "but stemmers become harder to design as the morphology, orthography, and character encoding, etc. of the target language becomes more complex. \n",
    "For example, an Italian stemmer is more complex than an English one (because of a greater number of verb inflections), a Russian one is more complex (more noun declensions), \n",
    "a Hebrew one is even more complex (due to nonconcatenative morphology, a writing system without vowels, and the requirement of prefix stripping: Hebrew stems can be two, three or four characters, but not more), and so on.\n",
    "Don't think that stemming is trivial.\n",
    "\n",
    "\n",
    "Martin F. Porter is the inventor of the Porter Stemmer,[1] one of the most common algorithms for stemming English,[2][3] and the Snowball programming framework.\n",
    "Spacy also offers stemmers across various languages. Version 1.0 was released on October 19, 2016 for this python library.\n",
    "\n",
    "#stemming #porter #languages #morphology #orthography #character #encoding #italian #english #russian #hebrew #concatenative #writing #system #vowels #prefix #stripping #algorithm #programming #framework #spacy #python #library\n",
    "\"\"\" \n",
    "\n",
    "text, hashtags, mentions = clean_text(text)\n",
    "print(\"text:\", text)\n",
    "print(\"hashtags:\", hashtags)\n",
    "print(\"mentions:\", mentions)"
   ]
  },
  {
   "cell_type": "markdown",
   "metadata": {},
   "source": [
    "# Youtube Spam Comments Dataset ▶️"
   ]
  },
  {
   "cell_type": "markdown",
   "metadata": {},
   "source": [
    "### Load the dataset\n",
    "\n",
    "The dataset is a csv file with 3 columns: `id`, `author`, `date`, `content` and `class`. The `content` column contains the text of the comment, and the `class` column tells whether the comment is a spam=1 or not a spam=0."
   ]
  },
  {
   "cell_type": "code",
   "execution_count": 14,
   "metadata": {},
   "outputs": [
    {
     "data": {
      "text/html": [
       "<div>\n",
       "<style scoped>\n",
       "    .dataframe tbody tr th:only-of-type {\n",
       "        vertical-align: middle;\n",
       "    }\n",
       "\n",
       "    .dataframe tbody tr th {\n",
       "        vertical-align: top;\n",
       "    }\n",
       "\n",
       "    .dataframe thead th {\n",
       "        text-align: right;\n",
       "    }\n",
       "</style>\n",
       "<table border=\"1\" class=\"dataframe\">\n",
       "  <thead>\n",
       "    <tr style=\"text-align: right;\">\n",
       "      <th></th>\n",
       "      <th>COMMENT_ID</th>\n",
       "      <th>AUTHOR</th>\n",
       "      <th>DATE</th>\n",
       "      <th>CONTENT</th>\n",
       "      <th>CLASS</th>\n",
       "    </tr>\n",
       "  </thead>\n",
       "  <tbody>\n",
       "    <tr>\n",
       "      <th>0</th>\n",
       "      <td>LZQPQhLyRh80UYxNuaDWhIGQYNQ96IuCg-AYWqNPjpU</td>\n",
       "      <td>Julius NM</td>\n",
       "      <td>2013-11-07T06:20:48</td>\n",
       "      <td>Huh, anyway check out this you[tube] channel: ...</td>\n",
       "      <td>1</td>\n",
       "    </tr>\n",
       "    <tr>\n",
       "      <th>1</th>\n",
       "      <td>LZQPQhLyRh_C2cTtd9MvFRJedxydaVW-2sNg5Diuo4A</td>\n",
       "      <td>adam riyati</td>\n",
       "      <td>2013-11-07T12:37:15</td>\n",
       "      <td>Hey guys check out my new channel and our firs...</td>\n",
       "      <td>1</td>\n",
       "    </tr>\n",
       "    <tr>\n",
       "      <th>2</th>\n",
       "      <td>LZQPQhLyRh9MSZYnf8djyk0gEF9BHDPYrrK-qCczIY8</td>\n",
       "      <td>Evgeny Murashkin</td>\n",
       "      <td>2013-11-08T17:34:21</td>\n",
       "      <td>just for test I have to say murdev.com</td>\n",
       "      <td>1</td>\n",
       "    </tr>\n",
       "    <tr>\n",
       "      <th>3</th>\n",
       "      <td>z13jhp0bxqncu512g22wvzkasxmvvzjaz04</td>\n",
       "      <td>ElNino Melendez</td>\n",
       "      <td>2013-11-09T08:28:43</td>\n",
       "      <td>me shaking my sexy ass on my channel enjoy ^_^ ﻿</td>\n",
       "      <td>1</td>\n",
       "    </tr>\n",
       "    <tr>\n",
       "      <th>4</th>\n",
       "      <td>z13fwbwp1oujthgqj04chlngpvzmtt3r3dw</td>\n",
       "      <td>GsMega</td>\n",
       "      <td>2013-11-10T16:05:38</td>\n",
       "      <td>watch?v=vtaRGgvGtWQ   Check this out .﻿</td>\n",
       "      <td>1</td>\n",
       "    </tr>\n",
       "  </tbody>\n",
       "</table>\n",
       "</div>"
      ],
      "text/plain": [
       "                                    COMMENT_ID            AUTHOR  \\\n",
       "0  LZQPQhLyRh80UYxNuaDWhIGQYNQ96IuCg-AYWqNPjpU         Julius NM   \n",
       "1  LZQPQhLyRh_C2cTtd9MvFRJedxydaVW-2sNg5Diuo4A       adam riyati   \n",
       "2  LZQPQhLyRh9MSZYnf8djyk0gEF9BHDPYrrK-qCczIY8  Evgeny Murashkin   \n",
       "3          z13jhp0bxqncu512g22wvzkasxmvvzjaz04   ElNino Melendez   \n",
       "4          z13fwbwp1oujthgqj04chlngpvzmtt3r3dw            GsMega   \n",
       "\n",
       "                  DATE                                            CONTENT  \\\n",
       "0  2013-11-07T06:20:48  Huh, anyway check out this you[tube] channel: ...   \n",
       "1  2013-11-07T12:37:15  Hey guys check out my new channel and our firs...   \n",
       "2  2013-11-08T17:34:21             just for test I have to say murdev.com   \n",
       "3  2013-11-09T08:28:43   me shaking my sexy ass on my channel enjoy ^_^ ﻿   \n",
       "4  2013-11-10T16:05:38            watch?v=vtaRGgvGtWQ   Check this out .﻿   \n",
       "\n",
       "   CLASS  \n",
       "0      1  \n",
       "1      1  \n",
       "2      1  \n",
       "3      1  \n",
       "4      1  "
      ]
     },
     "execution_count": 14,
     "metadata": {},
     "output_type": "execute_result"
    }
   ],
   "source": [
    "# Read the file\n",
    "import pandas as pd\n",
    "path_to_csv_file = '../youtube-spam-collection-v1/Youtube01-Psy.csv'\n",
    "df = pd.read_csv(path_to_csv_file)\n",
    "\n",
    "df.head()"
   ]
  },
  {
   "cell_type": "code",
   "execution_count": 15,
   "metadata": {},
   "outputs": [
    {
     "data": {
      "text/html": [
       "<div>\n",
       "<style scoped>\n",
       "    .dataframe tbody tr th:only-of-type {\n",
       "        vertical-align: middle;\n",
       "    }\n",
       "\n",
       "    .dataframe tbody tr th {\n",
       "        vertical-align: top;\n",
       "    }\n",
       "\n",
       "    .dataframe thead th {\n",
       "        text-align: right;\n",
       "    }\n",
       "</style>\n",
       "<table border=\"1\" class=\"dataframe\">\n",
       "  <thead>\n",
       "    <tr style=\"text-align: right;\">\n",
       "      <th></th>\n",
       "      <th>CONTENT</th>\n",
       "    </tr>\n",
       "  </thead>\n",
       "  <tbody>\n",
       "    <tr>\n",
       "      <th>0</th>\n",
       "      <td>Huh, anyway check out this you[tube] channel: ...</td>\n",
       "    </tr>\n",
       "    <tr>\n",
       "      <th>1</th>\n",
       "      <td>Hey guys check out my new channel and our firs...</td>\n",
       "    </tr>\n",
       "    <tr>\n",
       "      <th>2</th>\n",
       "      <td>just for test I have to say murdev.com</td>\n",
       "    </tr>\n",
       "    <tr>\n",
       "      <th>3</th>\n",
       "      <td>me shaking my sexy ass on my channel enjoy ^_^ ﻿</td>\n",
       "    </tr>\n",
       "    <tr>\n",
       "      <th>4</th>\n",
       "      <td>watch?v=vtaRGgvGtWQ   Check this out .﻿</td>\n",
       "    </tr>\n",
       "  </tbody>\n",
       "</table>\n",
       "</div>"
      ],
      "text/plain": [
       "                                             CONTENT\n",
       "0  Huh, anyway check out this you[tube] channel: ...\n",
       "1  Hey guys check out my new channel and our firs...\n",
       "2             just for test I have to say murdev.com\n",
       "3   me shaking my sexy ass on my channel enjoy ^_^ ﻿\n",
       "4            watch?v=vtaRGgvGtWQ   Check this out .﻿"
      ]
     },
     "execution_count": 15,
     "metadata": {},
     "output_type": "execute_result"
    }
   ],
   "source": [
    "# Retain only the CONTENT column\n",
    "df = df[['CONTENT']]\n",
    "df.head()"
   ]
  },
  {
   "cell_type": "markdown",
   "metadata": {},
   "source": [
    "# Bringing it together: Youtube Comments\n",
    "\n",
    "Clean youtube comments and add hashtags and mentions in a new column.\n",
    "\n",
    "Let's Apply the clean_text(text, filter_tags_and_mentions=False) function to the youtube comments."
   ]
  },
  {
   "cell_type": "code",
   "execution_count": 16,
   "metadata": {},
   "outputs": [
    {
     "name": "stdout",
     "output_type": "stream",
     "text": [
      "CONTENT #2012bitches﻿\n",
      "HASHTAGS ['2012bitches\\ufeff']\n",
      "\n",
      "CONTENT You gotta say its funny. well not 2 billion worth funny but still. It  clicked and everything went uphill. At least you don't have JB's shit on  #1.﻿\n",
      "HASHTAGS ['1.\\ufeff']\n",
      "\n",
      "CONTENT It's so hard, sad :( iThat little child Actor HWANG MINOO dancing very  active child is suffering from brain tumor, only 6 month left for him .Hard  to believe .. Keep praying everyone for our future superstar.  #StrongLittlePsY #Fighting  SHARE EVERYONE PRAYING FOR HIM http://ygunited.com/2014/11/08/little-psy-from-the-has-brain-tumor-6-months-left-to-live/ ﻿\n",
      "HASHTAGS ['StrongLittlePsY', 'Fighting']\n",
      "\n"
     ]
    }
   ],
   "source": [
    "#create three empty columns - 'CLEANED_CONTENT', 'HASHTAGS', 'MENTIONS'\n",
    "df['CLEANED_CONTENT'] = ''\n",
    "df['HASHTAGS'] = ''\n",
    "df['MENTIONS'] = ''\n",
    "\n",
    "for i in range(len(df)):\n",
    "    text = df['CONTENT'][i]\n",
    "    text, hashtags, mentions = clean_text(text)\n",
    "    df['CLEANED_CONTENT'][i] = text\n",
    "    df['HASHTAGS'][i] = hashtags\n",
    "\n",
    "for i in range(len(df)):\n",
    "    # if CONTENT contains a hashtag, print row\n",
    "    if df['HASHTAGS'][i] != []:\n",
    "        #print CONTENT\n",
    "        print('CONTENT', df['CONTENT'][i])\n",
    "        #print HASHTAGS\n",
    "        print('HASHTAGS', df['HASHTAGS'][i])\n",
    "        print()"
   ]
  },
  {
   "cell_type": "code",
   "execution_count": 17,
   "metadata": {},
   "outputs": [
    {
     "data": {
      "text/html": [
       "<div>\n",
       "<style scoped>\n",
       "    .dataframe tbody tr th:only-of-type {\n",
       "        vertical-align: middle;\n",
       "    }\n",
       "\n",
       "    .dataframe tbody tr th {\n",
       "        vertical-align: top;\n",
       "    }\n",
       "\n",
       "    .dataframe thead th {\n",
       "        text-align: right;\n",
       "    }\n",
       "</style>\n",
       "<table border=\"1\" class=\"dataframe\">\n",
       "  <thead>\n",
       "    <tr style=\"text-align: right;\">\n",
       "      <th></th>\n",
       "      <th>CONTENT</th>\n",
       "      <th>CLEANED_CONTENT</th>\n",
       "      <th>HASHTAGS</th>\n",
       "      <th>MENTIONS</th>\n",
       "    </tr>\n",
       "  </thead>\n",
       "  <tbody>\n",
       "    <tr>\n",
       "      <th>0</th>\n",
       "      <td>Huh, anyway check out this you[tube] channel: ...</td>\n",
       "      <td>[huh, anyway, check, tube, channel, kobyoshi02]</td>\n",
       "      <td>[]</td>\n",
       "      <td></td>\n",
       "    </tr>\n",
       "    <tr>\n",
       "      <th>1</th>\n",
       "      <td>Hey guys check out my new channel and our firs...</td>\n",
       "      <td>[hey, guy, check, new, channel, first, vid, us...</td>\n",
       "      <td>[]</td>\n",
       "      <td></td>\n",
       "    </tr>\n",
       "    <tr>\n",
       "      <th>2</th>\n",
       "      <td>just for test I have to say murdev.com</td>\n",
       "      <td>[test, say, murdev.com]</td>\n",
       "      <td>[]</td>\n",
       "      <td></td>\n",
       "    </tr>\n",
       "    <tr>\n",
       "      <th>3</th>\n",
       "      <td>me shaking my sexy ass on my channel enjoy ^_^ ﻿</td>\n",
       "      <td>[shake, sexi, ass, channel, enjoy]</td>\n",
       "      <td>[]</td>\n",
       "      <td></td>\n",
       "    </tr>\n",
       "    <tr>\n",
       "      <th>4</th>\n",
       "      <td>watch?v=vtaRGgvGtWQ   Check this out .﻿</td>\n",
       "      <td>[watch, v=vtarggvgtwq, check]</td>\n",
       "      <td>[]</td>\n",
       "      <td></td>\n",
       "    </tr>\n",
       "  </tbody>\n",
       "</table>\n",
       "</div>"
      ],
      "text/plain": [
       "                                             CONTENT  \\\n",
       "0  Huh, anyway check out this you[tube] channel: ...   \n",
       "1  Hey guys check out my new channel and our firs...   \n",
       "2             just for test I have to say murdev.com   \n",
       "3   me shaking my sexy ass on my channel enjoy ^_^ ﻿   \n",
       "4            watch?v=vtaRGgvGtWQ   Check this out .﻿   \n",
       "\n",
       "                                     CLEANED_CONTENT HASHTAGS MENTIONS  \n",
       "0    [huh, anyway, check, tube, channel, kobyoshi02]       []           \n",
       "1  [hey, guy, check, new, channel, first, vid, us...       []           \n",
       "2                            [test, say, murdev.com]       []           \n",
       "3                 [shake, sexi, ass, channel, enjoy]       []           \n",
       "4                      [watch, v=vtarggvgtwq, check]       []           "
      ]
     },
     "execution_count": 17,
     "metadata": {},
     "output_type": "execute_result"
    }
   ],
   "source": [
    "df.head()"
   ]
  },
  {
   "cell_type": "markdown",
   "metadata": {},
   "source": [
    "## Visualize the frequency of words in the comments."
   ]
  },
  {
   "cell_type": "markdown",
   "metadata": {},
   "source": [
    "### Question 6: Write a function to count the number of words in a text.\n",
    "\n",
    "A dictionary of the words and their frequencies should be created."
   ]
  },
  {
   "cell_type": "code",
   "execution_count": 35,
   "metadata": {},
   "outputs": [
    {
     "name": "stdout",
     "output_type": "stream",
     "text": [
      "input:\n",
      "['huh', 'anyway', 'check', 'tube', 'channel', 'kobyoshi02', 'hey', 'guy', 'check', 'new', 'channel', 'first', 'vid', 'us', 'monkey', 'monkey', 'white', 'shirt', 'pleas', 'leav', 'like', 'comment', 'pleas', 'subscrib', 'test', 'say', 'murdev.com', 'shake', 'sexi', 'ass', 'channel', 'enjoy', 'watch', 'v=vtarggvgtwq', 'check', 'hey', 'check', 'new', 'websit', 'site', 'kid', 'stuff', 'kidsmediausa', 'com', 'subscrib', 'channel', 'turn', 'mute', 'soon', 'came', 'want', 'check', 'view', 'check', 'channel', 'funni', 'video', 'u', 'should.d', 'check', 'channel', 'tell', 'next', 'hey', 'subscrib', 'me\\ufeff', 'onc', 'start', 'read', 'stop', 'subscrib', 'within', 'one', 'day', 'entir', 'famili', 'die', 'want', 'stay', 'aliv', 'subscrib', 'right', 'now.\\ufeff', 'subscrib', 'like', 'comment\\ufeff', 'pleas', 'like', 'hello', 'like', 'game', 'art', 'video', 'scientif', 'experi', 'tutori', 'lyric', 'video', 'much', 'much', 'pleas', 'check', 'channel', 'subscrib', 'start', 'soon', 'hope', 'abl', 'cover', 'expect', 'also', 'check', 'got', 'far', 'onli', 'check', 'views\\ufeff', 'edm', 'apparel', 'compani', 'dedic', 'bring', 'music', 'inspir', 'design', 'cloth', 'perfect', 'ani', 'rave', 'music', 'festiv', 'neon', 'crop', 'top', 'tank', 'top', 't-shirt', 'v-neck', 'accessori', 'follow', 'us', 'facebook', 'instagraml', 'free', 'giveaway', 'news', 'visit', 'site', 'oncueapparel\\ufeff', 'think', '100', 'million', 'view', 'come', 'peopl', 'onli', 'want', 'check', 'views\\ufeff', 'subscrib', 'channel', 'peopl', 'd\\ufeff', 'show', 'auburn', 'pride', 'check', 'views\\ufeff', 'check', 'channel', 'marketglori', 'com/strategygame/andrijamatf', 'earn', 'real', 'money', 'game', 'hey', 'guy', 'im', '12', 'yr', 'old', 'music', 'produc', 'make', 'chiptun', '8bit', 'music', 'would', 'wonder', 'check', '8bit', 'remix', 'even', 'gangnamstyl', '8bit', 'remix', 'would', 'like', 'check', 'thank', 'check', 'kyle', 'rap', 'yeah', 'dont', 'even', 'watch', 'anymor', 'come', 'check', '2', 'billion', 'not\\ufeff', 'subscrib', 'free', 'android', 'game', 'app', 'everyon', 'pleas', 'come', 'check', 'newest', 'song', 'memori', 'martin', 'luther', 'king', 'jr.\\ufeff', 'came', 'check', 'view', 'goodbye.\\ufeff', 'sub', 'channel', 'reason', 'check', 'dubstep', 'song', 'firebal', 'made', 'fruiti', 'loop', 'realli', 'took', 'time', 'v=teloa6rio8o\\ufeff', '2', 'billion', 'come', 'soon\\ufeff', 'whi', 'dafuq', 'korean', 'song', 'big', 'usa', 'doe', 'mean', 'support', 'korean', 'last', 'time', 'check', 'want', 'bomb', 'us', 'check', 'channel', 'pleas', 'listen', 'best', 'music', 'ever', 'p\\ufeff', 'sub', '4', 'sub', 'pleas', 'like', 'comment', 'want', 'succesful', 'youtub', 'ppleas', 'like', 'comment', 'subscrib', 'onli', 'take', '10', 'second', 'pleas', 'subscrib', 'ill', 'subscrib', 'back', 'thanks\\ufeff', 'hey', 'everyon', 'start', 'first', 'yt', 'channel', 'would', 'grate', 'peopl', 'could', 'check', 'first', 'clip', 'bf4', 'give', 'advic', 'video', 'could', 'improv', 'also', 'sure', 'go', 'check', 'see', 'im', 'thank', 'time', 'hater', 'hate', 'win\\ufeff', 'project', 'effect', 'music', 'foto', 'web', 'site', 'anoth', 'find', 'buy', 'youtube/codytolleson', 'awesom', 'video', 'subscrib', 'back', 'like', 'roblox', 'minecraft', 'world', 'warcraft', 'gta5', 'mario', 'suscrib', 'channel\\ufeff', 'subscrib', 'subscrib', 'must', 'like', 'czfcxsn0jnq', 'come', 'follow', 'watch', 'stream', 'like', 'raw', 'talent', 'raw', 'lyric', 'straight', 'real', 'hip', 'hop', 'everyon', 'check', 'newest', 'sound', 'dizzi', 'x', 'got', 'juic', 'prod', 'drug', 'model', 'citizen', 'comment', 'tell', 'think', 'dont', 'lazi', '1/7', 'prophetz\\ufeff', 'subscrib', 'channel', '1,884,034,783', 'view', 'pls', 'comment', 'view', 'count', 'next', 'hour', 'p\\ufeff', 'go', 'check', 'view', 'thumb', 'u', 'check', 'video', 'see', 'hw', 'view', 'got\\ufeff', 'plz', 'subscrib', 'channel', 'subscrib', 'back', 'xx\\ufeff', 'check', 'back', 'often', 'help', 'reach', '2x10^9', 'view', 'avoid', 'watch', 'baby\\ufeff', 'video', 'get', '2', 'billion', 'becaus', 'peopl', 'check', 'hit', '2', 'billion', 'yet.\\ufeff', 'like', 'facebook-pag', 'chanc', 'win', 'iphon', '5s', 'get', 'gwar', 'play', '2015', 'superbowl', 'pls', 'follow', 'channel', 'hi', 'guy', 'check', 'youtub', 'channel\\ufeff', 'subscrib', 'like', 'video', 'minecraft', 'great', 'game', 'check', 'subscrib', 'im', 'check', 'much', 'view', 'has\\ufeff', 'first', 'comment', 'chuck', 'norrus', 'ovbious', 'd\\ufeff', 'behold', 'view', 'youtub', 'video', 'histori', 'ever\\ufeff', 'gon', 'na', 'hit', '2', 'billion', 'view', 'youtub', 'video', 'time', '969,210', 'dislik', 'like', 'dislik', 'themselves\\ufeff', 'psy=korean\\ufeff', 'omg', 'oldspic', 'spraytan', 'parti', 'commerci', 'omg', 'sit', \"n't\", 'real', 'thing', 'omg', 'onli', 'video', 'youtub', 'get', 'much', 'view', 'becaus', 'want', 'see', 'much', 'view', '1.000.000', 'everi', 'day', 'mean', 'peopl', 'think', 'video', 'popular', 'actual', 'get', '1.000.000', 'views.\\ufeff', 'back', 'quit', '2', 'billion', '2014', 'plz', 'check', 'fablif', 'welcom', 'fablif', 'diy', 'challeng', 'plz', 'subscrib', 'thx', 'sub', 'channel', 'like', 'drone', 'plz', 'subscrib', 'kamal', 'tayara', 'take', 'video', 'drone', 'absolut', 'beautiful.\\ufeff', 'everyon', 'tri', 'showcas', 'talent', 'world', '3000', 'subscrib', 'promis', 'dont', 'suck', 'pleas', 'spread', 'cover', 'around', 'subscrib', 'amp', 'share', 'thank', 'much', 'support', 'luca', 'trigo', 'awesom', 'gt', 'gt', 'gt', 'gt', 'lt', 'hi', 'there~i', 'group', 'leader', 'angel', 'rooki', 'korean', 'pop', 'group', 'four', 'member', 'chanicka', 'juli', 'stephani', 'leah', 'pleas', 'feel', 'free', 'check', 'channel', 'leav', 'feedback', 'cover', 'video', 'critic', 'welcom', 'know', 'top', 'notch', 'singer', 'pleas', 'come', 'leav', 'construct', 'feedback', 'video', 'appreci', 'ani', 'chanc', 'improv', 'befor', 'audit', 'korean', 'manag', 'compani', 'plan', 'audit', 'jyp', 'bighit', 'jellyfish', 'yg', 'sm', 'thank', 'take', 'time', 'day', 'read', 'free', 'cs', 'go', 'admit', 'came', 'check', 'number', 'viewer', 'come', 'check', 'peopl', 'still', 'view', 'video', 'appar', 'still', 'do.\\ufeff', 'check', 'first', 'video', 'out\\ufeff', 'check', 'channel\\ufeff', 'psi', 'gangnam', 'style', '강남스타일', 'm/v', 'suscrib', 'channel', 'pleas', 'xd', 'lol\\ufeff', 'wow', 'comment', 'section', 'still', 'activ', 'bad', 'also', '5277478', 'comment', '79', 'ching', 'ching', 'ling', 'long', 'ding', 'ring', 'yaaaaaa', 'ganga', 'sti', 'fuck', 'you.\\ufeff', 'pleas', 'halp', 'project\\ufeff', 'one', 'video', 'channel', 'brother', 'check', 'channel', 'pleas', 'doe', 'anyon', 'use', 'gift', 'card', 'like', 'amazon', 'itun', 'psn', 'googl', 'play', 'itun', 'ani', 'gift', 'card', 'happi', 'know', 'get', 'free', 'gift', 'card', 'code', 'free', 'amaz', 'site', '50', 'itun', 'gift', 'card', 'code', 'xxbb5tczhm39hvzd\\ufeff', 'whi', 'doe', 'video', 'mani', 'view', 'becaus', 'asian', 'thing', 'awesom', 'non-asian', 'countri', 'jelli', 'tri', 'learn', 'asia', 'look', 'video', 'plizz', 'channel', 'made', 'game', 'channel', 'uniqu', 'right', 'l', 'angri', 'minecraft', 'pleas', 'help', 'go', 'anybodi', 'subscrib', 'get', '10', 'subscribers\\ufeff', 'video', 'half', 'way', 'decent', 'check', 'want.\\ufeff', 'said', 'video', 'deserv', '2billion', 'view', 'keep', 'visit', 'watch', 'viewer', 'subscrib', 'itz', 'recap', 'abov', 'diddle\\ufeff', 'screw', 'chines', 'crap', 'dont', 'even', 'understand', 'say', 'whi', \"n't\", 'speak', 'english', 'like', 'everyon', 'need', 'money', 'enjoy', 'sub', 'channel', 'visuelgamingznl', 'sub', 'back\\ufeff', 'pleas', 'subscrib', 'new', 'youtub', 'need', 'help', 'pleas', 'subscrib', 'subscrib', 'back', 'hoppa', 'hoppa', 'gangam', 'style\\ufeff', 'sub', 'dont', 'like', 'song\\ufeff', 'weird', 'video.\\ufeff', '8', 'million', 'like', 'xd', 'even', 'subscrib', '8', 'million', 'xd\\ufeff', 'ehi', 'guy', 'subscrib', 'channel', 'new', 'youtub', 'play', 'minecraft', 'thank', 'guy', 'subscrib', 'hi', 'everyon', 'like', 'music', 'whi', 'check', 'music', 'channel', 'lexi', 'band', 'upload', 'song', 'cover', 'soon', \"n't\", 'miss', 'pleas', 'subscrib', 'doe', 'help', 'us', 'lot', 'take', 'one', 'click', 'gt', 'song', 'never', 'get', 'old', 'love', 'it.\\ufeff', 'gofundme.com/grwmps\\ufeff', 'hey', 'guy', 'pleas', 'check', 'new', 'google+', 'page', 'mani', 'funni', 'pictur', 'funnytortsp', 'made', 'china', '5', 'milion', 'comentar', '2', 'bilion', 'views\\ufeff', '0', 'zero\\ufeff', 'mix', 'psi', 'gangnam', 'style', '강남스타일', 'm/v', 'psi', 'gangnam', 'style', '강남스타일', 'm/v\\ufeff', '2', 'billion', 'view', 'holi', 'shit.\\ufeff', '2.124.821.694', 'view', 'im', 'onli', 'person', 'aliv', 'zombi', 'apocalyps', 'greet', 'spoderman', 'suscrib', 'channel', 'please\\ufeff', '2,124923004', 'wiew', 'wow\\ufeff', 'guy', 'pleas', 'subscrib', 'help', 'channel', 'grow', 'pleas', 'guys\\ufeff', 'great', 'music', 'anyway\\ufeff', 'psi', 'gangnam', 'style', '강남스타일', 'm/v', 'crazi', '2', 'billion', 'view', 'us', 'uk', 'korea', 'republ', 'asia\\ufeff', 'discov', 'beauti', 'song', 'young', 'moroccan', 'like', 'get', 'gift', 'card', 'hate', 'spend', 'cash', 'tri', 'juno', 'wallet', 'juno', 'wallet', 'earn', 'money', 'gift', 'card', 'nike', 'gamestop', 'amazon', 'ebay', 'etc', 'amp', 'easi', 'earn', 'money', 'simpl', 'task', 'like', 'watch', 'video', 'download', 'app', 'amp', 'even', 'earn', 'money', 'invit', 'friend', 'join', 'free', 'signup', 'sign', 'today', 'amp', 'use', 'promo', 'code', 'bd3721315\\ufeff', 'somebodi', 'wake', 'get', '3', 'billion', 'views.\\ufeff', 'psi', 'got', 'lot', 'money', 'youtub', 'got', '2', 'billion', 'view', 'view', 'world', 'd\\ufeff', 'justin', 'bieber', 'gay', 'got', 'ta', 'say', 'funni', 'well', '2', 'billion', 'worth', 'funni', 'still', 'click', 'everyth', 'went', 'uphil', 'least', \"n't\", 'jb', 'shit', 'ahhh', '2', 'year', 'ago', 'danc', 'danc', 'psi', 'check', 'starlitnightski', 'channel', 'see', 'epic', 'videos\\ufeff', 'plz', 'stupid', 'peopl', 'video', 'doesnt', '2', 'billion', 'visit', '2', 'thousand', 'millions\\ufeff', 'check', 'men', 'put', 'allot', 'effort', 'music', 'unfortunat', 'mani', 'watch', 'it\\ufeff', 'pls', 'help', 'get', 'vip', 'gun', 'cross', 'fire', 'al\\ufeff', 'add', 'check', 'channel', 'pleas', 'sing', 'covers\\ufeff', 'think', 'place', 'promot', 'channel', 'comment', 'section', 'lol.\\ufeff', 'get', 'free', 'gift', 'card', 'pay', 'pal', 'money', 'check', 'pivot', 'anim', 'channel\\ufeff', 'follow', 'twitter', 'amp', 'ig', 'check', 'game', 'oppa', 'yeah', 'best', 'song', 'remind', 'song', 'free', 'gift', 'card', 'go', 'search', 'chubbz', 'dinero', 'readi', 'thank', 'follow', 'twitter', 'everi', 'singl', 'type', 'face', 'earth\\ufeff', 'ｄａｍｎ', 'ｔｈｉｓ', 'ｃｏｍｍｅｎｔ', 'ｉｓ', 'ｆａｎｃi', 'check', 'channel', 'new', 'song', 'love', 'incmedia.org', 'truth', 'meet', 'you.\\ufeff', 'look', 'channel', 'make', 'minecraft', 'pe', 'let', 'play', 'found', 'song', 'now\\ufeff', '2', 'billion', 'song', 'name', 'pleas', 'like', 'hey', 'guy', 'wouldnt', 'mind', 'chack', 'rap', 'give', 'like', 'il', 'giver', '3', 'vid', 'like\\ufeff', 'watch', 'video', 'youtub', 'psi', 'gangnam', 'style', '2.1', 'billion', 'view', 'psi', 'gangnam', 'style', '강남스타일', 'm/v\\ufeff', 'subscrib', 'subscrib', 'back', 'christma', 'song', 'visit', 'channel', 'subscrib', 'subscrib', 'back', 'plus', 'nice', 'ass', 'lol\\ufeff', 'pleas', 'give', 'us', 'chanc', 'check', 'new', 'music', 'video', 'channel', 'wo', \"n't\", 'disappointed.\\ufeff', 'pleas', 'subscrib', 'me\\ufeff', 'best', 'funni', 'viral', 'video', 'histori', 'youtub', 'true\\ufeff', 'pleas', 'check', 'vidios\\ufeff', 'oppa', 'gangnam', 'style', 'funni', 'thing', '1,700,000,000', 'view', 'spam', 'bot', 'mean', \"c'mon\", '2', 'billion', 'view', 'bs', 'oppa', 'lt', '3\\ufeff', 'funni', 'awesom', 'lol', 'aaaaaaa', 'sexi', 'lada😂\\ufeff', 'view', 'video', 'world\\ufeff', 'check', 'view', 'holi', 'shit\\ufeff', 'dear', 'person', 'read', 'beauti', 'love', 'great', 'day\\ufeff', 'click', 'tri', 'new', 'social', 'network', 'tsu', 'new', 'social', 'network', 'special', 'thing.you', 'share', 'post', 'well', 'fb', 'twitter', 'even', 'get', 'paid', 'registr', 'guy', 'yellow', 'suit', 'kinda', 'look', 'like', 'jae-suk', 'peopl', 'new', 'network', 'like', 'fb', 'regist', 'also', 'free', 'differ', 'onli', 'get', 'paid', 'share', 'comment', 'like', 'post', 'one', \"n't\", 'wast', 'time', 'fb', 'share', 'paid', 'regist', 'make', 'also', 'money', 'everyday', 'post', 'wellcom', 'everyon', '2', 'billion', 'view', 'onli', '2', 'million', 'peopl', 'world', 'multipl', 'account', '1111\\ufeff', 'wat', 'da', 'fuck', 'view', 'video', 'youtub', 'omg', '2/7', 'peopl', 'watch', 'video', 'becaus', '7', 'billion', 'peopl', 'world', '2', 'billion', 'watch', 'this\\ufeff', 'say', 'mani', 'views\\ufeff', 'omg', '2', 'billion', 'view', 'subscrib', 'plz', 'plz', 'plz', 'plz', 'plz', 'plz', 'follow', 'twitch', 'enter', 'keyword', '5800', 'chanc', 'win', 'realli', 'nice', 'expens', 'gun', 'csgo', 'sell', 'steam', 'market\\ufeff', '2,126,492,636', 'viewer', 'd\\ufeff', 'get', 'money', 'fantast', 'popul', 'world', '7', 'billion\\ufeff', '2.126.521.750', 'view', 'wow', '23', 'min', 'ago\\ufeff', 'super', 'p', 'e', 'c', 'e', 'amp', 'l', 'v', 'e', 'music', 'video', 'get', '2', 'billion', 'view', 'im', 'onli', 'one', 'watch', 'earth', 'lol\\ufeff', 'pleas', 'friend', 'read', 'book', 'repass', 'subscrib', 'still', 'best', 'd\\ufeff', 'like', 'video', 'youtub', 'still', 'watch', '2', 'year', 'later', 'hello', 'kind', 'new', 'youtub', 'soon', 'soon', 'go', 'make', 'launchpad', 'video', 'would', 'realli', 'appreci', 'got', 'sub', 'befor', 'start', 'peopl', 'spot', 'easili', 'dont', 'realli', 'care', 'hate', 'comment', 'dont', 'bother', 'lol', 'dunno', 'joke', 'get', 'lot', 'like', 'whatev', 'xd\\ufeff', '2', 'billion', 'view', 'piec', 'shit', 'r', 'e', 'u', 'k', 'n', 'g', 'e', 'gangman', 'sty-', 'd-d-d-d-d-d', 'drop', 'bass', 'song', 'ever', 'reach', '7', 'billion', 'view', 'im', 'rapper/songwrit', 'check', 'video', 'pleas', 'also', 'subscrib', 'thank', 'tell', 'think.\\ufeff', 'hello', '29.24', 'earth', 'popul', 'world', 'hope', 'great', 'day', 'video', 'start', 'whole', 'got', 'dick', 'stuck', 'elev', 'excus', 'thing', 'anyon', 'sub', 'channel', 'd\\ufeff', 'prehistor', 'song', 'been\\ufeff', 'think', 'smart', 'headbutt', 'face.\\ufeff', 'dislik', 'one', 'know', 'real', 'music', 'ex', 'enimen', 'loool', 'nice', 'song', 'funni', 'one', 'understand', 'love', 'it\\ufeff', 'like', 'came', 'see', 'mani', 'view', 'song', 'has.\\ufeff', 'pray', 'littl', 'psi', 'littl', 'psi', 'onli', '5', 'month', 'left', 'tumor', 'head', 'miss', 'u', 'lt', '3\\ufeff', 'follow', 'instagram', 'shit', 'still', 'relev', 'lol', 'shit', 'never', 'get', 'old\\ufeff', 'say', 'song', 'chang', 'world', 'complet', 'good', 'job', 'psi', 'girl', 'awesom', '0:02', 'u', 'see', 'camera', 'man', 'glass', 'comment', 'wrong\\ufeff', 'hate', 'music', 'fuck', 'singer', 'everi', 'koean', 'chainis', 'ana', 'us', 'suck', 'dick.\\ufeff', '2:05', 'hahahahah', 'reach', '3', 'billion', 'view', 'decemb', '2014', 'dumb', 'guy', 'whi', '2', 'billion', 'view', '7', 'million', 'peopl', 'earth', 'also', 'know', '1+1', 'equal', '1+1=1', 'smarti', 'pants\\ufeff', 'peopl', 'say', 'song', 'old', 'point', 'listen', 'suck', 'stfu', 'enjoy', 'music', 'mom', 'old', 'still', 'listen', 'right', 'funni', 'thing', 'song', 'made', '2009', 'took', '2', 'year', 'get', 'america.\\ufeff', 'whi', 'dont', 'see', 'ani', 'comment', 'mine', 'jap', 'piec', 'shit', 'worthless', 'fish', 'head', 'dont', 'know', 'ani', 'one', 'like', 'dumb', 'untanlt', 'gook', 'isnt', 'even', 'fucken', 'music', 'fuck', 'sad', 'even', 'thing', 'peopl', 'fuck', 'up.\\ufeff', 'rememb', 'everyon', 'obsess', 'gangnam', 'style', 'remov', 'video', 'wank\\ufeff', 'hard', 'sad', 'ithat', 'littl', 'child', 'actor', 'hwang', 'minoo', 'danc', 'veri', 'activ', 'child', 'suffer', 'brain', 'tumor', 'onli', '6', 'month', 'left', 'believ', 'keep', 'pray', 'everyon', 'futur', 'superstar', 'share', 'everyon', 'pray', 'whi', 'fuck', 'keep', 'updat', 'comment', '5', 'minut', 'ago', 'song', '2', 'year', '4', 'month', 'ago', 'mani', 'memori', 'whi', '5million', 'comment', 'onli', '279.898', 'youtub', 'user', '5million', 'fake', 'account', 'psi', 'hack', 'youtube\\ufeff', '2,000,000,000', '7,000,000,000', 'peopl', 'would', 'saw', 'video', '2', 'year', 'yeat', 'onli', 'get', '2', 'word', 'hole', 'song\\ufeff', 'video', 'cool', 'go', 'voyag', 'first', 'comment', 'tell', 'famili', 'love', 'video', 'youtub', 'get', 'mani', 'view', 'like', 'whi', 'gangnam', 'style', \"n't\", 'problem', \"n't\", 'understand', 'phenomena', 'behind', 'like', 'ani', 'random', 'music', 'video', 'korean', 'girl', 'slut', 'bitch', 'hyuna', 'hey', 'guy', 'check', 'kollektivet', \"n't\", 'slappin', 'peni', 'think', 'deserv', 'much', 'credit', 'receive.\\ufeff', 'still', 'veri', 'fun', 'music', 'video', 'watch', \"c'mon\", '3', 'billion', 'view', 'hey', 'everyon', 'new', 'channel', 'post', 'video', 'book', 'review', 'music', 'flute', 'pleas', 'subscrib', 'would', 'enjoy', 'thank', 'hey', 'think', 'know', 'deal', 'theori', 'could', 'gotten', '2billion', 'hit', '1', 'mabey', 'made', 'korea', 'reali', 'popular', 'stuck', 'watch', '2', '2billion', 'peopl', 'access', 'internet', 'includ', 'youtub', 'number', 'rise', '2017', 'half', 'populatoin', 'connect', '3', 'hacker', 'korea', 'may', 'love', 'much', 'rise', '2billion', 'hit', 'make', 'popular', '4', 'song', 'featur', 'danc', 'game', 'multipl', 'mp3s', 'seen', 'concert', 'even', 'new', 'year', 'eve', 'event', '2012', 'see', 'mabey', 'ad', 'hit', 'video', '5', 'complain', 'much', 'heck', '2b', 'hits.\\ufeff', 'subscrib', 'chanel\\ufeff', 'view', 'queen', 'michael', 'jackson', '2', 'billion', 'view', 'omg\\ufeff', 'lol\\ufeff', 'paus', '1:39', 'last', 'millisecond', 'see', 'chick', 'laugh', 'take', 'tries.\\ufeff', '9', 'year', 'old', 'like', 'doe', '2', 'billion', 'view', 'onli', '3', 'peopl', \"world'\\ufeff\", 'psi', 'good', 'guy\\ufeff', 'whi', 'doe', '2', 'billion', 'view', 'song', 'annoying\\ufeff', '1', 'millioon', 'dislikesssssssssssssssssssssssssssssssss', 'littl', 'psi', 'suffer', 'brain', 'tumor', 'onli', '6', 'month', 'live', 'pleas', 'pray', 'best', 'lucks.\\ufeff', 'littl', 'kidz', 'like', '7', '8', 'billon', 'peopl', 'earth', '7', '8', 'millon.get', 'fact', 'straight', 'befor', 'post', 'comments.\\ufeff', 'stupid', 'human', 'is\\ufeff', 'come', 'watch', 'video', 'call', 'odowd', 'crowd', 'zombi', 'movi', 'part', '1', 'know', 'song', 'suck', 'dick', 'need', 'use', 'googl', 'translat', 'know', 'fuck', 'say', 'get', 'came', 'view', 'wow', 'video', 'view', 'youtub', 'video', 'second', 'come', 'justin', 'bieber-', 'babi', 'smh', 'world', 'come', 'to\\ufeff', 'hey', 'join', 'tsū', 'publish', 'platform', 'share', 'content', 'song', 'great', '2,127,315,950', 'view', 'wow\\ufeff', 'watch', '2014\\ufeff', 'view', 'video', 'youtub', 'daaaaaaaaaaannng', 'view', 'almost', 'domin', 'entir', 'china', 'doe', 'video', '2,127,322,484', 'view', 'onli', '7', 'million', 'peopl', 'earth', 'gangnam', 'style\\ufeff', 'lol', 'youtub', 'officialpsi', 'get', 'much', 'money', 'lol\\ufeff', '1', 'million', 'dislik', 'epic', 'fail', 'readi', 'fanboy', 'knew', 'korean', 'would', 'even', 'funnier', 'least', 'bit', 'end', 'english', 'spoken', 'quit', 'rapidly.\\ufeff', 'enough', 'whole', 'doe', 'two', 'billion', 'view', 'onli', '7', 'million', 'planet', 'get', 'joke', 'funni', 'anymore.\\ufeff', 'get', '100', 'subscrib', 'summon', 'freddi', 'mercuri', 'ghost', 'whipe', 'face', 'earth', 'one', 'direct', 'miley', 'cirus.\\ufeff', 'reach', '100', 'subscrib', 'go', 'round', 'public', 'pour', 'bucket', 'ice', 'water', 'peopl', 'run', 'away', 'act', 'like', \"n't\", 'like', 'peopl', 'see', 'youtub', 'money', '2', 'billion', 'shit', '2', 'billion', 'view', 'onli', '2', 'million', 'shares\\ufeff', 'hi', 'guy', 'name', 'dylan', 'irl', 'footbal', 'video', '1030', 'subscrib', 'think', 'guy', 'would', 'like', 'content', 'come', 'check', 'subscrib', 'get', '300', 'subscrib', 'tomorrow', 'epic', 'hunger', 'game', 'video', 'follow', 'pleas', '2', 'billion', 'view', 'wow', 'even', 'babi', 'justin', 'beib', 'much', 'doe', \"n't\", 'deserv', 'capit', 'name\\ufeff', 'reach', '100', 'subscrib', 'tazz', 'self', 'friend\\ufeff', 'pleas', 'help', 'go', 'colleg', 'guy', 'thank', 'bottom', 'heart', 'awesom', 'smart', 'sucscrib', 'follow', '4', 'follow', 'vaahidmustaf', 'like', '4', 'like', 'psi', 'news', 'offıcal', 'add', 'mee', 'lt', '3', 'lt', '3\\ufeff', 'im', 'sorri', 'spam', 'name', 'jenni', 'go', 'high', 'school', 'everyon', 'dress', 'fashion', \"n't\", 'becaus', 'need', 'money', 'buy', 'cute', 'cloth', 'low', 'self', 'esteem', 'live', 'dad', 'mom', 'pass', 'away', '6', \"n't\", 'realli', 'mother', 'figur', '2', 'brother', 'older', 'sinc', 'boy', 'get', 'attent', 'alon', 'realli', 'want', 'wear', 'pretti', 'cloth', 'like', 'girl', 'school', 'get', 'boyfriend', 'ca', \"n't\", 'self', 'im', 'veri', 'quit', 'shi', 'school', 'becaus', \"n't\", 'confid', 'talk', 'someon', 'one', 'friend', 'name', 'carolin', 'move', 'away', 'im', 'alon', 'could', 'donat', 'money', 'would', 'great', \"n't\", 'care', 'expens', 'brand', 'ill', 'shop', 'walmart', 'becaus', 'pretti', 'cloth', 'also', 'wan', 'na', 'get', 'nail', 'done', 'salon', 'see', 'alot', 'girl', 'french', 'tip', 'never', 'nail', 'salon', 'befor', 'realli', 'appreci', 'get', 'hair', 'curl', 'thank', 'omg', 'please.\\ufeff', 'hate', 'song', 'pleas', 'throw', 'sub', 'channel\\ufeff', 'new', 'goal', '3,000,000', 'let', 'go', 'go', 'channel', 'u', 'want', 'see', 'fli', 'get', 'burn', 'alive\\ufeff', 'came', 'check', 'view', 'p\\ufeff', 'come', 'check', 'new', 'youtub', 'chhanel', 'go', 'post', 'daili', 'hav', 'absolut', 'idea', 'say', 'even', 'languag', 'pleas', 'check', 'vidio', 'guys\\ufeff', 'still', 'day', 'wonder', 'whi', 'video', 'popular', 'illuminati', 'confirm', 'hey', 'guy', 'check', 'channel', 'plz', 'mine', 'craft', 'video', 'let', 'shoot', '20', 'subs\\ufeff', 'get', 'old', 'pleas', 'subscrib', 'came', 'check', 'view', 'count\\ufeff', 'check', 'music', 'video', 'fuego', 'u', 'la', 'la', 'remix', 'hyperurl.co/k6a5xt\\ufeff', 'check', 'music', 'video', 'pleas', 'subscrib', 'fuego', 'u', 'la', 'la', 'remix', 'hyperurl.co/k6a5xt\\ufeff', 'shitti', 'chines', 'govern', \"n't\", 'block', 'youtub', 'close', '3', 'billion', 'view', 'right', 'world', 'record', 'youtub', 'video', 'view', 'xd\\ufeff', 'think', 'drunk', 'dure', 'x', 'limit', 'sun', 'exposur', 'drive', 'elimin', 'hassl', 'swing', 'car', 'visor', 'windshield', 'window', 'hahah', 'juyk', 'allway', 'laugh', 'part', '1:57', 'lol', 'want', 'know', 'name', 'guy', 'danc', '00:58', 'anybodi', 'know', 'haha', 'funni', 'see', 'salt', 'western', 'top', 'view', 'youtub', 'goe', 'video', 'dont', 'even', 'understand', 'keep', 'salt', 'follow', 'compani', 'twitter', 'thank', 'imagin', 'guy', 'put', 'adsens', 'view', 'u', 'could', 'pay', 'ur', 'morgage\\ufeff', 'hey', 'come', 'check', 'us', 'new', 'youtub', 'let', 'us', 'know', 'think', \"n't\", 'forget', 'subscrib', 'thanks.\\ufeff', 'girl', 'train', 'danc', 'outfit', 'fuck', 'sexi', 'huge', 'turn-off', 'lack', 'eyebrow', 'look', 'pictur', 'difficult', \"n't\", 'mind', 'check', 'view', 'hey', 'guy', 'check', 'youtub', 'channel', 'know', 'hate', 'comment', 'like', 'one', 'promis', 'check', 'video', 'entertain', 'shotgun', 'montag', 'ninja', 'defus', 'montag', 'troll', 'pleas', 'guy', 'check', 'thank', 'good', 'day', 'everyon', 'joke', 'hack', 'get', '2', 'billion', 'view', 'becaus', 'certain', 'amount', 'peopl', 'whatev', 'actual', 'buy', 'views.\\ufeff', 'pleas', 'like', 'frigea', 'marius', 'gabriel', 'comment', 'd\\ufeff', 'bing', 'reward', 'earn', 'free', 'money', 'u', 'cant', 'get', 'ur', 'virus', 'blue', 'pleas', 'buy', 'new', 'christma', 'shirt', 'buy', 'ani', 'time', 'befor', 'decemb', '4th', 'sold', 'worldwid', \"n't\", 'miss', 'free', 'app', 'get', '1m', 'crdit', 'click', 'link', 'download', 'app', 'done', 'link', 'whi', 'doe', 'song', 'like', 'view', 'michael', 'jackson', 'smh\\ufeff', 'someth', 'danc', 'even', 'sad', 'danc', 'psi', 'gangnam', 'style', '강남스타일', 'm/v', 'everyon', 'back', 'lool', 'almost', '3', 'year', 'old', 'peopl', 'still', 'hear', 'xd\\ufeff', '2', 'billion', 'view', 'onli', 'planet', 'lol\\ufeff', \"n't\", 'whi', 'watch', '2014\\ufeff', 'subscrib', 'call', 'duti', 'vid', 'give', 'away', 'goal-100', 'subs\\ufeff', 'hi', 'guy', 'pleas', 'android', 'photo', 'editor', 'download', 'thank', 'first', 'billion', 'view', 'becaus', 'thought', 'realli', 'cool', 'billion', 'half', 'came', 'see', 'stupid', 'first', 'billion']\n",
      "check 66\n",
      "view 62\n",
      "video 57\n",
      "subscrib 54\n",
      "like 43\n",
      "pleas 40\n",
      "channel 39\n",
      "2 39\n",
      "billion 38\n",
      "get 34\n"
     ]
    }
   ],
   "source": [
    "#Answer 6:\n",
    "\n",
    "from collections import Counter\n",
    "\n",
    "\n",
    "\n",
    "def count_words(tokens):\n",
    "    \"\"\"Count the number of times each word occurs in text (str). Return dictionary where keys are unique words and values are word counts.\"\"\"\n",
    "\n",
    "    ################Enter your answer here################\n",
    "    #for each word in the list of words in column TOKENS, add the word to the counter\n",
    "    Counter_words = Counter()\n",
    "    Counter_words.update(tokens)\n",
    "    return Counter_words\n",
    "    ######################################################\n",
    "\n",
    "#Combine all the values of the CLEANED_CONTENT column into a single string.\n",
    "input = []\n",
    "for i in range(len(df)):\n",
    "    for token in df['CLEANED_CONTENT'][i]:\n",
    "        input.append(token)\n",
    "\n",
    "print('input:')\n",
    "print(input)\n",
    "\n",
    "# Create a dictionary of word counts\n",
    "word_counts = count_words(input)\n",
    "\n",
    "# Let us sort and print the most 10 common words in the comments.\n",
    "sorted_word_counts = sorted(word_counts.items(), key=lambda pair: pair[1], reverse=True)\n",
    "for word, count in sorted_word_counts[:10]:\n",
    "    print(word, count)"
   ]
  },
  {
   "cell_type": "code",
   "execution_count": 37,
   "metadata": {},
   "outputs": [
    {
     "data": {
      "text/plain": [
       "<Axes: >"
      ]
     },
     "execution_count": 37,
     "metadata": {},
     "output_type": "execute_result"
    },
    {
     "data": {
      "image/png": "[encoded data removed]",
      "text/plain": [
       "<Figure size 1500x1000 with 1 Axes>"
      ]
     },
     "metadata": {},
     "output_type": "display_data"
    }
   ],
   "source": [
    "# Let us plot the top 100 most frequent words in the comments.\n",
    "\n",
    "#ignore warning\n",
    "import warnings\n",
    "warnings.filterwarnings('ignore')\n",
    "\n",
    "import matplotlib.pyplot as plt\n",
    "import seaborn as sns\n",
    "\n",
    "sns.set_style('darkgrid')\n",
    "plt.figure(figsize=(15, 10))\n",
    "plt.xticks(fontsize=10, rotation=90)\n",
    "plt.yticks(fontsize=10)\n",
    "\n",
    "sns.barplot(x=[i[0] for i in sorted_word_counts[:100]], y=[i[1] for i in sorted_word_counts[:100]])"
   ]
  },
  {
   "cell_type": "markdown",
   "metadata": {},
   "source": [
    "# Lemmatization\n",
    "Lemmatization is the process of grouping together the different inflected forms of a word so they can be analysed as a single item."
   ]
  },
  {
   "cell_type": "code",
   "execution_count": 3,
   "metadata": {},
   "outputs": [
    {
     "name": "stderr",
     "output_type": "stream",
     "text": [
      "[nltk_data] Downloading package wordnet to /root/nltk_data...\n",
      "[nltk_data]   Package wordnet is already up-to-date!\n",
      "[nltk_data] Downloading package omw-1.4 to /root/nltk_data...\n",
      "[nltk_data]   Package omw-1.4 is already up-to-date!\n"
     ]
    },
    {
     "data": {
      "text/plain": [
       "True"
      ]
     },
     "execution_count": 3,
     "metadata": {},
     "output_type": "execute_result"
    }
   ],
   "source": [
    "# Download the wordnet packages for the wordnet lemmatizer\n",
    "\n",
    "from nltk.stem import WordNetLemmatizer\n",
    "nltk.download(\"wordnet\")\n",
    "nltk.download(\"omw-1.4\")"
   ]
  },
  {
   "cell_type": "code",
   "execution_count": 40,
   "metadata": {},
   "outputs": [
    {
     "name": "stdout",
     "output_type": "stream",
     "text": [
      "SB Stemmer\n",
      "learnt ---> learnt\n",
      "learnability ---> learnabl\n",
      "atypicality ---> atyp\n",
      "this ---> this\n",
      "programer ---> program\n",
      "programers ---> program\n",
      "programs ---> program\n",
      "\n",
      "\n",
      "\n",
      "WordNet Lemmatizer\n",
      "learnt ---> learnt\n",
      "learnability ---> learnability\n",
      "atypicality ---> atypicality\n",
      "this ---> this\n",
      "programer ---> programer\n",
      "programers ---> programers\n",
      "programs ---> program\n"
     ]
    }
   ],
   "source": [
    "# Stemming is the process of reducing a word to its stem form. For example, learning, learns, learned are all reduced to learn.\n",
    "# Lemmatization is the process of reducing a word to its lemma or dictionary form. For example, learned, learnt are all reduced to learn.\n",
    "\n",
    "\n",
    "# Note how the stemmer is more aggressive than the lemmatizer. The stemmer reduces words to their stem form without considering the context of the sentence. The lemmatizer considers the context of the sentence and reduces the word to its lemma form.\n",
    "\n",
    "# Let's use the snowball stemmer to stem the words.\n",
    "import nltk\n",
    "from nltk.stem import SnowballStemmer\n",
    "snowball = SnowballStemmer(language='english')\n",
    "\n",
    "# Example inflections to reduce\n",
    "words = ['learnt', 'learnability', 'atypicality', 'this',\"programer\",\"programers\",\"programs\"]\n",
    "\n",
    "print(\"SB Stemmer\")\n",
    "for word in words:\n",
    "    print(word,\"--->\",snowball.stem(word))\n",
    "\n",
    "# Let's use the WordNetLemmatizer to lemmatize the words.\n",
    "\n",
    "\n",
    "\n",
    "from nltk.stem import WordNetLemmatizer\n",
    "lemmatizer = WordNetLemmatizer()\n",
    "\n",
    "print(\"\\n\\n\\nWordNet Lemmatizer\")\n",
    "for word in words:\n",
    "    print(word,\"--->\",lemmatizer.lemmatize(word))\n"
   ]
  },
  {
   "cell_type": "markdown",
   "metadata": {},
   "source": [
    "#### You’ve seen how to implement both techniques, but how do they compare? \n",
    "\n",
    "The main differences between stemming and lemmatization lay in how each technique arrives at the objective of reducing inflected words to a common base root. \n",
    "\n",
    "Stemming algorithms attempt to find the common base roots of various inflections by cutting off the endings or beginnings of the word. \n",
    "The chop is based on a list of common prefixes and suffixes that can typically be found in inflected words. \n",
    "This non-discriminatory nature act of chopping words may occasionally lead to finding meaningful word stems, but other times it does not. \n",
    "\n",
    "\n",
    "\n",
    "On the other hand, lemmatization algorithms attempt to find common base roots from inflected words by conducting a morphological analysis. \n",
    "To accurately reduce inflections, a detailed dictionary must be kept so the algorithm can search through to link an inflected word back to its lemma."
   ]
  },
  {
   "cell_type": "markdown",
   "metadata": {},
   "source": [
    "The crude heuristic approach taken by stemming algorithms typically means they’re fast and efficient but not always accurate. \n",
    "In contrast, lemmatization algorithms sacrifice speed and efficiency for accuracy, thus, resulting in meaningful base roots. \n",
    "\n",
    "Hence, for accuracy choose lemmatization over stemming. For speed and efficiency, choose stemming over lemmatization."
   ]
  },
  {
   "cell_type": "code",
   "execution_count": null,
   "metadata": {},
   "outputs": [],
   "source": [
    "Possible references:\n",
    "\n",
    "https://datascience.stackexchange.com/questions/57191/is-there-a-good-german-stemmer\n",
    "\n"
   ]
  },
  {
   "cell_type": "code",
   "execution_count": null,
   "metadata": {},
   "outputs": [],
   "source": []
  },
  {
   "cell_type": "code",
   "execution_count": null,
   "metadata": {},
   "outputs": [],
   "source": []
  },
  {
   "cell_type": "code",
   "execution_count": null,
   "metadata": {},
   "outputs": [],
   "source": []
  },
  {
   "cell_type": "code",
   "execution_count": null,
   "metadata": {},
   "outputs": [],
   "source": []
  }
 ],
 "metadata": {
  "kernelspec": {
   "display_name": "comp_ling",
   "language": "python",
   "name": "python3"
  },
  "language_info": {
   "codemirror_mode": {
    "name": "ipython",
    "version": 3
   },
   "file_extension": ".py",
   "mimetype": "text/x-python",
   "name": "python",
   "nbconvert_exporter": "python",
   "pygments_lexer": "ipython3",
   "version": "3.8.0"
  },
  "orig_nbformat": 4
 },
 "nbformat": 4,
 "nbformat_minor": 2
}
