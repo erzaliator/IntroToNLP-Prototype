{
  "cells": [
    {
      "attachments": {},
      "cell_type": "markdown",
      "metadata": {
        "id": "U6zITLBiDFdl"
      },
      "source": [
        "# Tutorial 1\n",
        "Elements of Data Science and Artificial Intelligence\n",
        "<br>\n",
        "Winter Semester 2019/2020\n",
        "<br>\n",
        "Saarland University\n",
        "\n",
        "Prof. Dr. Demberg"
      ]
    },
    {
      "attachments": {},
      "cell_type": "markdown",
      "metadata": {
        "id": "pCIv2NBOUCI5"
      },
      "source": [
        "## Python assignment: 👩‍💼 Running the Eliza Chatbot 👩‍💼\n",
        "\n",
        "---\n",
        "\n",
        "\n",
        "Follow the tutorial below and try out the Eliza chatbot implemented in NLTK.\n",
        "\n"
      ]
    },
    {
      "cell_type": "markdown",
      "metadata": {},
      "source": [
        "# Question 1: Run Eliza\n",
        "\n",
        "Run the Eliza chatbot and interact with it.\n",
        "\n",
        "Answer 1: \n",
        "\n",
        "1. Start by executing the three code cells below. Cells can be excuted with ctrl+enter or with the run icon on the top.\n",
        "    \n",
        "2. Once you run the `demo()` function, you can start chatting with Eliza. Type in your responses in the input box and press enter."
      ]
    },
    {
      "attachments": {},
      "cell_type": "markdown",
      "metadata": {
        "id": "rG_B_t51vZyJ"
      },
      "source": [
        "Step 1: Import the necessary libraries. "
      ]
    },
    {
      "cell_type": "code",
      "execution_count": 2,
      "metadata": {
        "id": "fVs4K9092auj"
      },
      "outputs": [],
      "source": [
        "from __future__ import print_function\n",
        "from nltk.chat.util import Chat, reflections"
      ]
    },
    {
      "attachments": {},
      "cell_type": "markdown",
      "metadata": {
        "id": "mphznKtSLoC-"
      },
      "source": [
        "Step 2: Define the rules using regular expressions.\n",
        "\n",
        "<font color=\"red\"><b>Use examples and extend the questions given below</b></font>"
      ]
    },
    {
      "cell_type": "markdown",
      "metadata": {},
      "source": [
        "### Rules of Eliza"
      ]
    },
    {
      "cell_type": "code",
      "execution_count": 3,
      "metadata": {
        "id": "DssF222gLddy"
      },
      "outputs": [],
      "source": [
        "# a table of response pairs, where each pair consists of a\n",
        "# regular expression, and a list of possible responses,\n",
        "# with group-macros labelled as %1, %2.\n",
        "\n",
        "pairs = [\n",
        "\n",
        "  (r'I can\\'t (.*)',\n",
        "  ( \"How do you know you can't %1?\",\n",
        "    \"Perhaps you could %1 if you tried.\",\n",
        "    \"What would it take for you to %1?\")), # %1 is a placeholder for the first group\n",
        "\n",
        "  (r'How (.*)',\n",
        "  ( \"How do you suppose?\",\n",
        "    \"Perhaps you can answer your own question.\",\n",
        "    \"What is it you're really asking?\")),\n",
        "\n",
        "  (r'Hello(.*)',\n",
        "  ( \"Hello... I'm glad you could drop by today.\",\n",
        "    \"Hi there... how are you today?\",\n",
        "    \"Hello, how are you feeling today?\")),\n",
        "\n",
        "  (r'Can you (.*)',\n",
        "  ( \"What makes you think I can't %1?\",\n",
        "    \"If I could %1, then what?\",\n",
        "    \"Why do you ask if I can %1?\")),\n",
        "\n",
        "  ################################################################################################\n",
        "  ################################################################################################\n",
        "  ################################################################################################\n",
        "  #Hint: you can copy paste the patterns above to make new rules\n",
        "\n",
        "  # Add Answers 3-7 here:\n",
        "\n",
        "\n",
        "\n",
        "\n",
        "  ################################################################################################\n",
        "  ### Answer to question 3:\n",
        "\n",
        "  # Offers no correction but automatically responds with \"Why do you feel overwhelmed?\"\n",
        "  (r'.*verwhelmed.*',\n",
        "    ( \"Why do you feel overwhelmed?\",\n",
        "      \"What makes you feel overwhelmed?\")),\n",
        "\n",
        "  #Handling spelling mistakes of the word \"mother\"\n",
        "  (r'(.*) mther(.*)',\n",
        "    ( \"I think you meant 'mother' instead of 'mther'. Tell me more about your mother.\",\n",
        "     \"I think you meant 'mother' instead of 'mther'. What is your relationship with your mother like?\")),\n",
        "\n",
        "\n",
        "\n",
        "  # ################################################################################################\n",
        "  ### Answer to question 4:\n",
        "\n",
        "  #Handling synonyms of the word \"headache\" - headache, migraine, nausea, sinus. Use the pipe operator to separate the synonyms\n",
        "  (r'.*(headache|migraine|nausea|sinus).*',\n",
        "  # (r'headache|migraine|nausea|sinus.*',\n",
        "    ( \"Looks like you have severe symptoms. I suggest you should consult a doctor.\",\n",
        "      \"I am just a chatbot. Please seek medical help.\")),\n",
        "\n",
        "\n",
        "\n",
        "  ################################################################################################\n",
        "  ### Answer to question 5:\n",
        "\n",
        "  #Handling sentences that begin with a swear word\n",
        "  (r'^damn|bollocks|crickey.*',\n",
        "    ( \"Hey! I think you should be careful with your language!\",\n",
        "    \"Please refrain from using such language.\")),\n",
        "\n",
        "\n",
        "\n",
        "  \n",
        "  ################################################################################################\n",
        "  ### Answer to question 6:\n",
        "\n",
        "  # Handling sentences that begin with exclamatory words of variable length\n",
        "  (r'^(w+o+w+)|(y+a+y+)|(y+e+a+h+).*',\n",
        "    ( \"You seem upbeat, tell me more!\",\n",
        "        \"Wow! Looks like youre quite excited! Care to tell me more?\")) ,\n",
        "\n",
        "\n",
        "\n",
        "  # ################################################################################################\n",
        "  ### Answer to question 7:\n",
        "\n",
        "  #Handling groups\n",
        "  (r'I have been (.*) since (.*)',\n",
        "   (\"So from %2 you have been %1. How does that make you feel?\",\n",
        "    \"%2 is a long time ago. How do you feel about %1 for so long?\")),\n",
        "\n",
        "\n",
        "\n",
        "  ################################################################################################\n",
        "  ################################################################################################\n",
        "  ################################################################################################\n",
        "  \n",
        "  (r'I am (.*)',\n",
        "  ( \"Did you come to me because you are %1?\",\n",
        "    \"How long have you been %1?\",\n",
        "    \"How do you feel about being %1?\")),\n",
        "\n",
        "  (r'I feel (.*)',\n",
        "  ( \"Good, tell me more about these feelings.\",\n",
        "    \"Do you often feel %1?\",\n",
        "    \"When do you usually feel %1?\",\n",
        "    \"When you feel %1, what do you do?\")),\n",
        "\n",
        "  (r'(.*) mother(.*)',\n",
        "  ( \"Tell me more about your mother.\",\n",
        "    \"What was your relationship with your mother like?\",\n",
        "    \"How do you feel about your mother?\",\n",
        "    \"How does this relate to your feelings today?\",\n",
        "    \"Good family relations are important.\")),\n",
        "\n",
        "  (r'(.*) father(.*)',\n",
        "  ( \"Tell me more about your father.\",\n",
        "    \"How did your father make you feel?\",\n",
        "    \"How do you feel about your father?\",\n",
        "    \"Does your relationship with your father relate to your feelings today?\",\n",
        "    \"Do you have trouble showing affection with your family?\")),\n",
        "\n",
        "  (r'I am working on (.*) through (.*)',\n",
        "  ( \"Tell me more about %1. And why do you think it can acheived by %2?\")), #identifying multiple groups in a single sentence\n",
        "\n",
        "  (r'(.*)\\?',\n",
        "  ( \"Why do you ask that?\",\n",
        "    \"Please consider whether you can answer your own question.\",\n",
        "    \"Perhaps the answer lies within yourself?\",\n",
        "    \"Why don't you tell me?\")),\n",
        "\n",
        "  (r'quit',\n",
        "  ( \"Thank you for talking with me.\",\n",
        "    \"Good-bye.\",\n",
        "    \"Thank you, that will be $150.  Have a good day!\")),\n",
        "\n",
        "  (r'(.*)',\n",
        "  ( \"Please tell me more.\",\n",
        "    \"Let's change focus a bit... Tell me about your family.\",\n",
        "    \"Can you elaborate on that?\",\n",
        "    \"Why do you say that %1?\",\n",
        "    \"I see.\",\n",
        "    \"Very interesting.\",\n",
        "    \"%1.\",\n",
        "    \"I see.  And what does that tell you?\",\n",
        "    \"How does that make you feel?\",\n",
        "    \"How do you feel when you say that?\"))\n",
        "]"
      ]
    },
    {
      "attachments": {},
      "cell_type": "markdown",
      "metadata": {
        "id": "uG75eAxCuzz-"
      },
      "source": [
        "Step 3 : Run the chatbot."
      ]
    },
    {
      "cell_type": "code",
      "execution_count": null,
      "metadata": {},
      "outputs": [],
      "source": []
    },
    {
      "cell_type": "code",
      "execution_count": 4,
      "metadata": {
        "id": "mGWEoeuluzFj"
      },
      "outputs": [
        {
          "name": "stdout",
          "output_type": "stream",
          "text": [
            "Therapist\n",
            "---------\n",
            "Talk to the program by typing in plain English, using normal upper-\n",
            "and lower-case letters and punctuation.  Enter \"quit\" when done.\n",
            "========================================================================\n",
            "Hello.  How are you feeling today?\n",
            "Hello... I'm glad you could drop by today.\n",
            "I think you meant 'mother' instead of 'mther'. What is your relationship with your mother like?\n",
            "Hey! I think you should be careful with your language!\n",
            "Please tell me more.\n",
            "Why do you say that dadasd damn adads?\n",
            "Hey! I think you should be careful with your language!\n",
            "2022 is a long time ago. How do you feel about feeling lw for so long?\n",
            "So from 2020  you have been depressed. How does that make you feel?\n",
            "Thank you for talking with me.\n"
          ]
        }
      ],
      "source": [
        "eliza_chatbot = Chat(pairs, reflections)\n",
        "\n",
        "def eliza_chat():\n",
        "    print(\"Therapist\\n---------\")\n",
        "    print(\"Talk to the program by typing in plain English, using normal upper-\")\n",
        "    print('and lower-case letters and punctuation.  Enter \"quit\" when done.')\n",
        "    print('='*72)\n",
        "    print(\"Hello.  How are you feeling today?\")\n",
        "\n",
        "    eliza_chatbot.converse()\n",
        "\n",
        "def demo():\n",
        "    eliza_chat()\n",
        "\n",
        "\n",
        "if __name__ == \"__main__\":\n",
        "    demo()"
      ]
    },
    {
      "cell_type": "code",
      "execution_count": null,
      "metadata": {},
      "outputs": [],
      "source": []
    },
    {
      "cell_type": "code",
      "execution_count": null,
      "metadata": {},
      "outputs": [],
      "source": []
    },
    {
      "cell_type": "code",
      "execution_count": null,
      "metadata": {},
      "outputs": [],
      "source": []
    },
    {
      "cell_type": "code",
      "execution_count": null,
      "metadata": {},
      "outputs": [],
      "source": []
    },
    {
      "cell_type": "code",
      "execution_count": null,
      "metadata": {},
      "outputs": [],
      "source": []
    },
    {
      "cell_type": "code",
      "execution_count": null,
      "metadata": {},
      "outputs": [],
      "source": []
    },
    {
      "cell_type": "code",
      "execution_count": null,
      "metadata": {},
      "outputs": [],
      "source": []
    },
    {
      "cell_type": "code",
      "execution_count": null,
      "metadata": {},
      "outputs": [],
      "source": []
    },
    {
      "cell_type": "markdown",
      "metadata": {},
      "source": [
        "# Question 2: Write about limitations\n",
        "\n",
        "Think about the regex in the eliza chat. What are some of the limitations of the regex in pairs_original? How would you improve the regex in pairs_original? \n",
        "\n",
        "Add your answer to the markdown cell below."
      ]
    },
    {
      "cell_type": "markdown",
      "metadata": {},
      "source": [
        "# Answer 2: \n",
        "\n",
        "<font color=\"yellow\">\n",
        "#################################Write your answer here######################################################################\n",
        "</font>\n",
        "\n",
        "Here are two limitations of the regex in pairs_original:\n",
        "1. If I am talking about my mother, the regex will match the word \"mother's relative\" in the sentence \"I am talking about my mother's sister\" and respond with \"Tell me more about your mother.\" \n",
        "This is not the desired response. The regex should only match the word \"mother\" when it is used in the context of \"my mother\".\n",
        "We can capture relatives of the word \"mother\" by adding the regex r'(.*) mother\\'s (.*)' to the pairs variable and have the response \"Tell me more about your mother's %2.\".\n",
        "Then add the remaining regex r'(.*) mother(.*)' in the pairs variable and have the response \"Tell me more about your mother.\". \n",
        "This is driven by the greedy order of the regex in the pairs variable.\n",
        "\n",
        "\n",
        "2. The regex r'You\\'re (.*)' is too general. It can falsely identify the word \"you're\" in the sentence \"I think you're right\" and respond with \"Why do you say that about me?\".\n",
        "It should handle compliments and respond with \"Thank you for the compliment.\" instead.\n",
        "It can be solved by adding the regex r'You\\'re [right|amazing|great|correct]' to the pairs variable and have the response \"Thank you for the compliment.\".\n"
      ]
    },
    {
      "cell_type": "markdown",
      "metadata": {},
      "source": [
        "# Question 3: Spelling Correction\n",
        "\n",
        "Insert additional regex for pairs variable for spelling errors:\n",
        "\n",
        "\n",
        "1. Use regex to handle spelling mistakes of the word \"overwhelmed\" (e.g., \"Tension makes me uverwhelmed\"), and respond with \"Why do you feel overwhelmed?\".\n",
        "2. Use regex to handle spelling mistakes of the word \"mother\" (e.g., \"I hate my mther\").\n",
        "  Respond with \"I think you meant \"mother\" instead of \"mther\". Tell me more about your mother.\"\n",
        "\n",
        "\n",
        "<font color=\"yellow\">\n",
        "Hint: \n",
        "Add the regex pairs to the pairs variable coded in the section - \"Rules for Eliza\".\n",
        "\n",
        "Then rerun the demo() function to test your regex.\n",
        "</font>"
      ]
    },
    {
      "cell_type": "markdown",
      "metadata": {},
      "source": [
        "# Question 4: Synonyms\n",
        "\n",
        "Use regex to handle synonyms of the word \"headache\" - headache, migraine, nausea, sinus.\n",
        "* Respond with \"Looks like you have severe symptoms. I suggest you should consult a doctor.\", \"I am just a chatbot. Please seek medical help.\""
      ]
    },
    {
      "cell_type": "markdown",
      "metadata": {},
      "source": [
        "# Question 5: Anchoring\n",
        "Insert additional regex for handling swear words in at the beginning of a sentence. For example, \"Damn! I am so happy today.\", \"Crickey!I am so happy today!\", \"Bollocks! I am so happy today!\"\n",
        "* Respond with \"Hey! I think you should be careful with your language!\""
      ]
    },
    {
      "attachments": {},
      "cell_type": "markdown",
      "metadata": {},
      "source": [
        "# Question 6: Repetitions \n",
        "\n",
        "Insert additional regex for pairs variable for sentences that begin with exclamations: For example, \"Wow! I am so happy today.\", \"Woooooowwwwwwwww! I am so happy today!\", \"Yaaaayyyyyy! I am so happy today!\", \"YYYeeaaaahhhhhhh! I am super happy today!\"\n",
        "\n",
        "* Respond with \"Wow! Looks like youre quite happy! Care to tell me more?\""
      ]
    },
    {
      "cell_type": "markdown",
      "metadata": {},
      "source": [
        "# Question 7: Groups\n",
        "\n",
        "Insert additional regex for answering questions about multiple topics: For example, \"I have been seeking help since 2017.\", \"I have been feeling low since 2020.\"\n",
        "\n",
        "* Respond with \"So from 2017 you have been seeking help. How does that make you feel?\",\n",
        "    \"2020 is a long time ago. How do you feel about feeling low for so long?\""
      ]
    },
    {
      "cell_type": "code",
      "execution_count": null,
      "metadata": {},
      "outputs": [],
      "source": []
    },
    {
      "attachments": {},
      "cell_type": "markdown",
      "metadata": {},
      "source": [
        "# Written Assignment: 🌟 Understanding Binary Classification Metrics: TP, FP, TN, FN 🌟"
      ]
    },
    {
      "attachments": {},
      "cell_type": "markdown",
      "metadata": {},
      "source": [
        "Consider a binary classification problem where you need to classify instances as either \"Positive\" (P) or \"Negative\" (N). Let's assume you have the following dataset of 3 instances along with their actual labels and predicted labels:\n",
        "\n",
        "| Instance | Actual Label | Predicted Label |\n",
        "|----------|--------------|-----------------|\n",
        "| 1        | P            | P               |\n",
        "| 2        | N            | P               |\n",
        "| 3        | P            | N               |\n",
        "\n",
        "### Calculation:\n",
        "\n",
        "To calculate TP, FP, TN, and FN, you need to compare the actual labels with the predicted labels for each instance.\n",
        "\n",
        "- True Positives (TP): Instances that are actually positive (P) and are correctly predicted as positive (P).\n",
        "\n",
        "  In this case, Instance 1 is a true positive since it is actually positive (P) and correctly predicted as positive (P).\n",
        "\n",
        "  Therefore, TP = 1.\n",
        "\n",
        "- False Positives (FP): Instances that are actually negative (N) but are incorrectly predicted as positive (P).\n",
        "\n",
        "  In this case, Instance 2 is a false positive since it is actually negative (N) but incorrectly predicted as positive (P).\n",
        "\n",
        "  Therefore, FP = 1.\n",
        "\n",
        "- True Negatives (TN): Instances that are actually negative (N) and are correctly predicted as negative (N).\n",
        "\n",
        "  In this case, Instance 3 is a true negative since it is actually negative (N) and correctly predicted as negative (N).\n",
        "\n",
        "  Therefore, TN = 1.\n",
        "\n",
        "- False Negatives (FN): Instances that are actually positive (P) but are incorrectly predicted as negative (N).\n",
        "\n",
        "  In this case, there are no false negatives since neither of the instances is actually positive (P) but predicted as negative (N).\n",
        "\n",
        "  Therefore, FN = 0.\n",
        "\n",
        "### Summary:\n",
        "\n",
        "- True Positives (TP): 1\n",
        "- False Positives (FP): 1\n",
        "- True Negatives (TN): 1\n",
        "- False Negatives (FN): 0\n",
        "\n",
        "These values can be used to further calculate precision, recall, and F1 score if required."
      ]
    },
    {
      "attachments": {},
      "cell_type": "markdown",
      "metadata": {},
      "source": [
        "# Question 8: Precision, Recall, and F1 Calculation for Binary Comment Classification\n",
        "\n",
        "In this exercise, you will calculate the precision, recall, and F1 score for a binary review classification problem. \n",
        "\n",
        "Consider the following scenario:\n",
        "\n",
        "We are dealing with youtube spam comments. The labels - \"Positive\" (P) or \"Negative\" (N) indicate whether the comment is spam or not.\n",
        "\n",
        "1. The column <font color=\"blue\">** text ** </font> represents youtube comments. \n",
        "2. The column <font color=\"blue\">** ground truth ** </font> with P/N indicated whether the comment is spam or not.\n",
        "3. Youtube also runs spam bots to keep the integrity of the comments section. We creating a youtube spam bot ourselves.\n",
        "The bot also tries to filter spam but does not always it right. The predictions by the spam bot are indicated in the <font color=\"blue\">** Predicted label ** </font> column.\n",
        "\n",
        "The model/spam bot was tested on a dataset of 12 reviews, and the predictions are provided below:\n",
        "\n",
        "| Review | Ground truth | Predicted label | Text                                                                              |\n",
        "|--------|--------------|-----------------|-----------------------------------------------------------------------------------|\n",
        "| 1      | P            | N               | Huh, anyway check out this [YouTube] channel: kobyoshi02                          |\n",
        "| 2      | N            | N               | I'm only checking the views                                                       |\n",
        "| 3      | P            | P               | Hey guys check out my new channel and our first vid THIS IS US THE MONKEYS!!!     |\n",
        "| 4      | P            | P               | watch?v=vtaRGgvGtWQ Check this out .                                              |\n",
        "| 5      | N            | N               | i think about 100 millions of the views come from people who only wanted to check the views |\n",
        "| 6      | P            | N               | Hey, check out my new website!! This site is about kids stuff. kidsmediausa . com |\n",
        "| 7      | N            | N               | Why is a Korean song so big in the USA. Does that mean we support Koreans?        |\n",
        "| 8      | P            | P               | Subscribe to my channel                                                           |\n",
        "| 9      | N            | P               | Behold the most viewed youtube video in the history of ever                       |\n",
        "| 10     | N            | N               | Oppa! Yeah! Best Song!                                                            |\n",
        "| 11     | P            | P               | You should check my channel for Funny VIDEOS!!                                    |\n",
        "| 12     | N            | N               | The most watched video on YouTube is Psy’s “Gangnam Style”, with 2.1 billion views. |\n",
        "\n",
        "\n",
        "Using these values, calculate the following metrics manually:\n",
        "\n",
        "1. True Positives (TP)\n",
        "2. False Positives (FP)\n",
        "3. True Negatives (TN)\n",
        "4. False Negatives (FN)\n",
        "5. Precision\n",
        "6. Recall\n",
        "7. F1 score\n",
        "\n",
        "Write your solutions and calculations to the markdown cell below."
      ]
    },
    {
      "cell_type": "markdown",
      "metadata": {},
      "source": [
        "### Answer to question 8:\n",
        "\n",
        "<font color=\"yellow\">\n",
        "##############################Write your answers here##################################\n",
        "</font>\n",
        "\n",
        "\n",
        "\n",
        "|                      | **Predicted Spams**            | **Predicted Non-spams**   |\n",
        "|----------------------|:------------------------------:|:-------------------------:|\n",
        "| **Actual Spams**     |        ?<br>(TP)               |        ?<br>(FP)          |\n",
        "| **Actual Non-spams** |        ?<br>(FN)               |        ?<br>(TN)          |\n",
        "\n",
        "\n",
        "\n",
        "5. Precision = TP / (TP + FP) \n",
        "   \n",
        "   Therefore, the precision is ?.\n",
        "\n",
        "6. Recall = TP / (TP + FN)\n",
        "\n",
        "   Therefore, the recall is ?.\n",
        "\n",
        "7. F1 Score = 2 * (Precision * Recall) / (Precision + Recall)\n",
        "\n",
        "   Therefore, the F1 score is ?."
      ]
    },
    {
      "cell_type": "markdown",
      "metadata": {},
      "source": [
        "### KEY to question 8:\n",
        "\n",
        "<font color=\"red\">\n",
        "This cell will be deleted</font>\n",
        "\n",
        "\n",
        "\n",
        "\n",
        "\n",
        "1. True Positives (TP): 4\n",
        "2. False Positives (FP): 1\n",
        "3. True Negatives (TN): 5\n",
        "4. False Negatives (FN): 2\n",
        "\n",
        "\n",
        "5. Precision:\n",
        "   Precision is the ratio of correctly predicted positive instances (Positive) to the total predicted positive instances.\n",
        "\n",
        "   Precision = TP / (TP + FP)\n",
        "\n",
        "   Substituting the values:\n",
        "   Precision = 4 / (4 + 1)\n",
        "   Precision = 4 / 5\n",
        "   Precision = 0.8\n",
        "\n",
        "   Therefore, the precision is 0.8.\n",
        "\n",
        "6. Recall:\n",
        "   Recall is the ratio of correctly predicted positive instances (Positive) to the total actual positive instances.\n",
        "\n",
        "   Recall = TP / (TP + FN)\n",
        "\n",
        "   Substituting the values:\n",
        "   Recall = 4 / (4 + 2)\n",
        "   Recall = 4 / 6\n",
        "   Recall = 0.67\n",
        "\n",
        "   Therefore, the recall is 0.67.\n",
        "\n",
        "7. F1 score:\n",
        "   The F1 score is the harmonic mean of precision and recall, providing a balanced measure between the two metrics.\n",
        "\n",
        "   F1 Score = 2 * (Precision * Recall) / (Precision + Recall)\n",
        "\n",
        "   Substituting the values:\n",
        "   F1 Score = 2 * (0.8 * 0.67) / (0.8 + 0.67)\n",
        "   F1 Score = 2 * (0.536) / 1.47\n",
        "   F1 Score = 1.072 / 1.47\n",
        "   F1 Score = 0.73\n",
        "\n",
        "   Therefore, the F1 score is 0.73."
      ]
    },
    {
      "cell_type": "markdown",
      "metadata": {},
      "source": [
        "# Question 9: Assessing the bot\n",
        "\n",
        "Do you think this spam bot is good? \n",
        "\n",
        "1. If we use precision to assess the bot, is the bot really good? \n",
        "2. If we use recall to assess the bot, is it good?\n",
        "\n",
        "Write your solutions in the markdown cell below."
      ]
    },
    {
      "cell_type": "markdown",
      "metadata": {},
      "source": [
        "### Answer 9:\n",
        "\n",
        "<font color=\"yellow\">\n",
        "##############################Write your answers here##################################\n",
        "</font>\n",
        "\n",
        "In the context of a YouTube spam filtering bot,\n",
        "\n",
        "* Precision: 0.8 (or 80%)\n",
        "   * Out of all the instances the model predicted as spam, 80% of them were indeed spam comments (less false positives). In other words, the bot is quite accurate when it flags comments as spam. However, there is still a possibility that some legitimate comments might be incorrectly labeled as spam, leading to false positives.\n",
        "* Recall: 0.67 (or 67%)\n",
        "   * This indicates that the bot is successful in capturing 67% of all actual spam comments present in the dataset. While this is a decent performance, it also means that around 33% of spam comments are not being detected and are slipping through the filtering system. In other words, the bot is missing some spam comments, leading to false negatives.\n",
        "   \n",
        "Overall, when a comment is flagged as spam, the bot is quite accurate but it is not able to detect all spam comments."
      ]
    },
    {
      "cell_type": "markdown",
      "metadata": {},
      "source": [
        "# Question 10: Precision Recall Tradeoff\n",
        "\n",
        "Think in terms of precision recall tradeoff.\n",
        "\n",
        "1. What happens when we add more regex and make stricter rules? Does precision increase? Does recall increase?\n",
        "\n",
        "2. What happens when we relax the rules? Does precision increase? Does recall increase?"
      ]
    },
    {
      "cell_type": "markdown",
      "metadata": {},
      "source": [
        "### Answer 10:\n",
        "\n",
        "<font color=\"yellow\">\n",
        "##############################Write your answers here##################################\n",
        "</font>\n",
        "\n",
        "1. If we make stricter rules for the spam bot, the precision will increase but the recall will decrease. \n",
        "2. If we make the rules less strict, the precision will decrease but the recall will increase.\n",
        "\n",
        "* Improving precision further may require the bot to be even more conservative in labeling comments as spam, which could result in an even lower recall. On the other hand, prioritizing recall may lead to more false positives, impacting the user experience. Striking the right balance is necessary to optimize the bot's performance."
      ]
    },
    {
      "cell_type": "code",
      "execution_count": null,
      "metadata": {},
      "outputs": [],
      "source": []
    },
    {
      "cell_type": "code",
      "execution_count": null,
      "metadata": {},
      "outputs": [],
      "source": []
    },
    {
      "cell_type": "code",
      "execution_count": null,
      "metadata": {},
      "outputs": [],
      "source": []
    },
    {
      "cell_type": "code",
      "execution_count": null,
      "metadata": {},
      "outputs": [],
      "source": []
    },
    {
      "cell_type": "code",
      "execution_count": null,
      "metadata": {},
      "outputs": [],
      "source": []
    },
    {
      "attachments": {},
      "cell_type": "markdown",
      "metadata": {},
      "source": [
        "# References:\n",
        "* https://www.analyticsvidhya.com/blog/2021/07/regular-expressions-in-python-a-beginners-guide/\n",
        "* https://www.youtube.com/watch?v=5NWwq6SmOXM&ab_channel=Enthought (Building a Scalable AI chatbot: From regex to DeepLearning)\n",
        "* slides Einführung in die Computerlinguistik\n",
        "\n",
        "### Drawbacks wrt. notebook:\n",
        "Did not cover fallback epxeressions\n",
        "\n",
        "### Designed with human in the loop AI:\n",
        "Co-pilot(GPT-4)\n",
        "* https://github.blog/2023-03-22-github-copilot-x-the-ai-powered-developer-experience/\n",
        "\n",
        "### Cases not handled by copilot:\n",
        "### Answer to question 2:\n",
        "\n",
        "#Handling synonyms of the word \"quit\"\n",
        "pairs.append((r'(.*)exit(.*)',\n",
        "    ( \"Thank you for talking with me. Good-bye.\") ),\n",
        "    (r'(.*)exit(.*)',\n",
        "    ( \"Thank you for talking with me. Good-bye.\") ),\n",
        "    (r'(.*)escapado(.*)',\n",
        "    ( \"Thank you for talking with me. Good-bye.\") ))\n",
        "\n",
        "### Answer to question 4:\n",
        "#Handling sentences that begin with exclamatory words of variable length\n",
        "pairs.append((r'^[w+o+w+|y+a+y+|y+e+s+|y+e+a+h+|y+e+a+y+]!(.*)',\n",
        "    ( \"Why are you excited?\")))\n",
        "    \n",
        "#Handling sentences that do not begin with exclamatory words of variable length. \n",
        "pairs.append((r'^(.*)',\n",
        "    ( \"Why are you so happy to be here?\")))\n",
        "\n",
        "### Answer to question 3: \n",
        "#Handling sentences that do not begin with a word but otherwise match the regex for happy\n",
        "pairs.append((r'^!(.*)',\n",
        "    ( \"\")))\n",
        "Note: even with modifications and providing the negation logic Co-pilot failed. Prompt needs to improve. Copilot rarely struggles with simple regex.\n",
        "\n",
        "### Answer to question 5:\n",
        "\n",
        "#Handling weights in pounds\n",
        "pairs.append((r'I weigh (.*)lbs(.*)',\n",
        "    ( \"Why do you weigh 120 pounds?\")))\n",
        "pairs.append((r'I weigh (.*)pounds(.*)',\n",
        "    ( \"Why do you weigh 120 pounds?\")))\n",
        "\n",
        "### Answer to question 5:\n",
        "\n",
        "#Handling weights in pounds\n",
        "pairs.append((r'I weigh (.*)[lbs|pounds](.*)',\n",
        "    ( \"You weigh %1 pounds. Don't be conscious of it.\")))\n",
        "\n",
        "\n",
        "\n",
        "Summary: \n",
        "Count handle repetition, megation and anchoring combined. \n",
        "Made atomic and multiple regexs. Tendency to avoid concat - \"|\" operator"
      ]
    }
  ],
  "metadata": {
    "colab": {
      "provenance": []
    },
    "kernelspec": {
      "display_name": "Python 3",
      "language": "python",
      "name": "python3"
    },
    "language_info": {
      "codemirror_mode": {
        "name": "ipython",
        "version": 3
      },
      "file_extension": ".py",
      "mimetype": "text/x-python",
      "name": "python",
      "nbconvert_exporter": "python",
      "pygments_lexer": "ipython3",
      "version": "3.8.0"
    }
  },
  "nbformat": 4,
  "nbformat_minor": 0
}
